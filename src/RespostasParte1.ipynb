{
 "cells": [
  {
   "cell_type": "markdown",
   "metadata": {},
   "source": [
    "# RESPOSTAS AS QUESTÕES FORMULADAS"
   ]
  },
  {
   "cell_type": "markdown",
   "metadata": {},
   "source": [
    "## ❓ Perguntas \n",
    "1.  Como evoluiu a declaração étnica ao longo do tempo?\n",
    "2.  Como evoluiu o perfil étnico da universidade ao longo do tempo, em particular no pré, durante e pós pandemia?\n",
    "3.  Qual é a relação entre a cota de ingresso dos alunos e sua região (estado/sub-região?) de origem?\n",
    "4.  A quarentena influenciou a diversidade regional dos alunos? Se sim, como?\n",
    "5.  A quarentena influenciou a ingreso mais diverso de alunos em relação ao gênero no curso de Ciência da Computação? Se sim, como?\n",
    "6.  Como a demanda por curso foi afetada pela passagem do tempo? E pela pandemia?\n",
    "7.  Qual é o tempo de permanência média por curso ao longo do tempo? (destaque para a pandemia)\n",
    "8.  Como evoluíram as notas do enem por curso ao longo do tempo (por ano)? E como foi essa evolução por contas?\n",
    "9.  Como é a média do CR por curso e por ano?\n",
    "10. Qual campus recebe mais pessoas de fora do estado de Minas Gerais?\n",
    "11. O tempo de duração definido para os cinco cursos mais frequentados condiz com a media de duração gasto pelos alunos?\n"
   ]
  },
  {
   "cell_type": "markdown",
   "metadata": {},
   "source": [
    "## Imports básicos\n"
   ]
  },
  {
   "cell_type": "code",
   "execution_count": 1,
   "metadata": {},
   "outputs": [],
   "source": [
    "import pandas as pd\n",
    "import numpy as np\n",
    "import matplotlib.pyplot as plt\n",
    "import seaborn as sns\n",
    "import scipy as sp\n",
    "import math\n",
    "import unidecode\n",
    "import Funcoes"
   ]
  },
  {
   "cell_type": "markdown",
   "metadata": {},
   "source": [
    "##  Lendo dataframe\n"
   ]
  },
  {
   "cell_type": "code",
   "execution_count": 2,
   "metadata": {},
   "outputs": [
    {
     "name": "stdout",
     "output_type": "stream",
     "text": [
      "<class 'pandas.core.frame.DataFrame'>\n",
      "RangeIndex: 74026 entries, 0 to 74025\n",
      "Data columns (total 23 columns):\n",
      " #   Column                   Non-Null Count  Dtype  \n",
      "---  ------                   --------------  -----  \n",
      " 0   Identificador            74026 non-null  int64  \n",
      " 1   Ano_Nascimento           73949 non-null  float64\n",
      " 2   Sexo                     73986 non-null  object \n",
      " 3   Campus                   74026 non-null  object \n",
      " 4   Curso_Identificador      74026 non-null  int64  \n",
      " 5   Curso                    74026 non-null  object \n",
      " 6   UF_Nascimento            73965 non-null  object \n",
      " 7   Municipio_Nascimento     74026 non-null  object \n",
      " 8   Admissao                 74026 non-null  object \n",
      " 9   Saida                    74026 non-null  object \n",
      " 10  Codigo_Situacao_Aluno    74026 non-null  object \n",
      " 11  Situacao_Aluno           74026 non-null  object \n",
      " 12  Situacao_Aluno_Agrupada  74026 non-null  object \n",
      " 13  Modalidade_Inscrita      68753 non-null  float64\n",
      " 14  ENEM                     39183 non-null  float64\n",
      " 15  Num_Reprovacoes          74026 non-null  int64  \n",
      " 16  Raca                     74026 non-null  object \n",
      " 17  CRA                      74016 non-null  float64\n",
      " 18  Area                     74026 non-null  object \n",
      " 19  Admissao_Ano             74026 non-null  int64  \n",
      " 20  Admissao_Semestre        74026 non-null  int64  \n",
      " 21  Saida_Ano                74026 non-null  int64  \n",
      " 22  Saida_Semestre           74026 non-null  int64  \n",
      "dtypes: float64(4), int64(7), object(12)\n",
      "memory usage: 13.0+ MB\n"
     ]
    }
   ],
   "source": [
    "df = pd.read_csv(\"../Datasets/dadosFiltrados.csv\")\n",
    "df.info()"
   ]
  },
  {
   "cell_type": "code",
   "execution_count": 3,
   "metadata": {},
   "outputs": [],
   "source": [
    "df['Sexo'] = df['Sexo'].astype(str)\n",
    "df['Campus'] = df['Campus'].astype(str)\n",
    "df['Curso'] = df['Curso'].astype(str)\n",
    "df['UF_Nascimento'] = df['UF_Nascimento'].astype(str)\n",
    "df['Municipio_Nascimento'] = df['Municipio_Nascimento'].astype(str)\n",
    "df['Admissao'] = df['Admissao'].astype(str)\n",
    "df['Saida'] = df['Saida'].astype(str)\n",
    "df['Codigo_Situacao_Aluno'] = df['Codigo_Situacao_Aluno'].astype(str)\n",
    "df['Situacao_Aluno'] = df['Situacao_Aluno'].astype(str)\n",
    "df['Situacao_Aluno_Agrupada'] = df['Situacao_Aluno_Agrupada'].astype(str)\n",
    "df['Raca'] = df['Raca'].astype(str)"
   ]
  },
  {
   "cell_type": "markdown",
   "metadata": {},
   "source": [
    "## Resposta 1: \n",
    "\n",
    "- Como evoluiu a declaração étnica ao longo do tempo?\n"
   ]
  },
  {
   "cell_type": "markdown",
   "metadata": {},
   "source": [
    "Após algumas plotagens dos gráficos, percebeu-se que a quantidade de pessoas que entravam nos períodos pares (segundo semetre de cada ano e disciplinas de verão) não era significativa. Por conta disso e para melhor visualização dos dados, usou-se como base a quantidade de entradas por ano, e não por semestre"
   ]
  },
  {
   "cell_type": "code",
   "execution_count": null,
   "metadata": {},
   "outputs": [],
   "source": [
    "dfEtnico = df[['Raca','Admissao']]\n",
    "dfEtnico['Admissao'] = dfEtnico['Admissao'].apply(lambda x : str(x)[:4]) #Pegando apenas o ano\n",
    "dfEtnicoPorPeriodo = dfEtnico.groupby('Admissao').value_counts().reset_index().sort_values(by='Admissao') # Agrupando as raças por ano\n",
    "dfEtnicoPorPeriodo\n"
   ]
  },
  {
   "cell_type": "code",
   "execution_count": null,
   "metadata": {},
   "outputs": [],
   "source": [
    "dfEtnico = df[['Raca','Admissao']]\n",
    "dfEtnico['Admissao'] = dfEtnico['Admissao'].apply(lambda x : str(x)[:4])\n",
    "dfEtnicoPorPeriodo = dfEtnico.groupby('Admissao').value_counts().reset_index().sort_values(by='Admissao')\n",
    "\n",
    "plt.figure(figsize=(17,5))\n",
    "dfBrancos = dfEtnicoPorPeriodo[dfEtnicoPorPeriodo['Raca'] == 'Branco(a)']\n",
    "dfPretos = dfEtnicoPorPeriodo[dfEtnicoPorPeriodo['Raca'] == 'Preto(a)']\n",
    "dfIndiponivel = dfEtnicoPorPeriodo[dfEtnicoPorPeriodo['Raca'] == 'Informação não disponível']\n",
    "dfAmarelo = dfEtnicoPorPeriodo[dfEtnicoPorPeriodo['Raca'] == 'Amarelo(a)']\n",
    "dfPardo = dfEtnicoPorPeriodo[dfEtnicoPorPeriodo['Raca'] == 'Pardo(a)']\n",
    "dfIndigena = dfEtnicoPorPeriodo[dfEtnicoPorPeriodo['Raca'] == 'Indígena']\n",
    "\n",
    "# Plotando gráfico de linhas para visualizar evolução ao longo do tempo\n",
    "plt.plot(dfBrancos['Admissao'], dfBrancos['count'], label='Branco(a)', linewidth=3)\n",
    "plt.plot(dfPretos['Admissao'], dfPretos['count'], label='Preto(a)', linewidth=3)\n",
    "plt.plot(dfIndigena['Admissao'], dfIndigena['count'], label='Indigena', linewidth=3)\n",
    "plt.plot(dfIndiponivel['Admissao'], dfIndiponivel['count'], label='Indisponível', linewidth=3)\n",
    "plt.plot(dfPardo['Admissao'], dfPardo['count'], label='Pardo(a)', linewidth=3)\n",
    "plt.plot(dfAmarelo['Admissao'], dfAmarelo['count'], label='Amarelo(a)', linewidth=3)\n",
    "plt.xticks(rotation=90)\n",
    "plt.legend()\n",
    "plt.xlabel('Data de Admissao')\n",
    "plt.ylabel('Quantidade')\n",
    "plt.show()"
   ]
  },
  {
   "cell_type": "markdown",
   "metadata": {},
   "source": [
    "No gráfico acima, podemos perceber que a declaração étnica ao longo do tempo teve uma melhora significativa ao longo dos anos. Antes de 2007, a grande maioria dos alunos não se classificava étnicamente. \n",
    "\n",
    "Porém, entre 2006 e 2009 podemos ver um crescimento bastante significativo da declaração de identidade racial dos alunos, atingindo uma certa estabilidade entre 2011 e 2018.\n",
    "\n",
    "Uma das coisas que se pode perceber é que os dados do dataset seguem uma distribuição de raças bem próxima à da realidade brasileira. Consultando sites como [agencia-noticias](https://agenciadenoticias.ibge.gov.br/agencia-noticias/2012-agencia-de-noticias/noticias/38719-censo-2022-pela-primeira-vez-desde-1991-a-maior-parte-da-populacao-do-brasil-se-declara-parda), podemos perceber esse padrão.\n",
    "\n",
    "![Raças no Brasil](Imagens/racas.png)\n",
    "\n",
    "Uma das possíveis interpretações desses dados é que a população brasileira passou a se identificar mais com suas raças, não só devido a conscientização de pensamentos sobre identidade cultural e pela maior incentivo à valorização dessas identidades, mas também pode se tratar de um reflexo da implementação de leis, tais como a [lei de cotas de 2012](http://portal.mec.gov.br/component/tags/tag/politica-de-cotas#:~:text=A%20política%20de%20cotas%20foi,proposta%20foi%20aprovada%20por%20unanimidade.), que podem ter servido de incentivo para a melhoria desse quadro\n"
   ]
  },
  {
   "cell_type": "markdown",
   "metadata": {},
   "source": [
    "## Resposta 2:\n",
    "- Como evoluiu o perfil étnico da universidade ao longo do tempo, em particular no pré, durante e pós pandemia?\n"
   ]
  },
  {
   "cell_type": "code",
   "execution_count": null,
   "metadata": {},
   "outputs": [],
   "source": [
    "dfEtnico = df[['Raca', 'Admissao_Ano']]\n",
    "dfEtnicoAntes = dfEtnico[dfEtnico['Admissao_Ano'] < 2020]\n",
    "dfEtnicoDurante = dfEtnico[dfEtnico['Admissao_Ano'] >= 2019]\n",
    "dfEtnicoPorPeriodoAntes = dfEtnicoAntes.groupby('Admissao_Ano').value_counts().reset_index().sort_values(by='Admissao_Ano')\n",
    "dfEtnicoPorPeriodoDurante = dfEtnicoDurante.groupby('Admissao_Ano').value_counts().reset_index().sort_values(by='Admissao_Ano')\n",
    "\n",
    "\n",
    "# plotando antes da pandemia\n",
    "plt.figure(figsize=(17,5))\n",
    "dfBrancosAntes = dfEtnicoPorPeriodoAntes[dfEtnicoPorPeriodoAntes['Raca'] == 'Branco(a)']\n",
    "dfPretosAntes = dfEtnicoPorPeriodoAntes[dfEtnicoPorPeriodoAntes['Raca'] == 'Preto(a)']\n",
    "dfIndiponivelAntes = dfEtnicoPorPeriodoAntes[dfEtnicoPorPeriodoAntes['Raca'] == 'Informação não disponível']\n",
    "dfAmareloAntes = dfEtnicoPorPeriodoAntes[dfEtnicoPorPeriodoAntes['Raca'] == 'Amarelo(a)']\n",
    "dfPardoAntes = dfEtnicoPorPeriodoAntes[dfEtnicoPorPeriodoAntes['Raca'] == 'Pardo(a)']\n",
    "dfIndigenaAntes = dfEtnicoPorPeriodoAntes[dfEtnicoPorPeriodoAntes['Raca'] == 'Indígena']\n",
    "\n",
    "# Plotando gráfico de linhas para visualizar evolução ao longo do tempo\n",
    "datas = np.sort(dfEtnicoAntes['Admissao_Ano'].unique())\n",
    "plt.plot(dfBrancosAntes['Admissao_Ano'], dfBrancosAntes['count'], label='Branco(a)', linewidth=3)\n",
    "plt.plot(dfPretosAntes['Admissao_Ano'], dfPretosAntes['count'], label='Preto(a)', linewidth=3)\n",
    "plt.plot(dfIndigenaAntes['Admissao_Ano'], dfIndigenaAntes['count'], label='Indigena', linewidth=3)\n",
    "plt.plot(dfIndiponivelAntes['Admissao_Ano'], dfIndiponivelAntes['count'], label='Indisponível', linewidth=3)\n",
    "plt.plot(dfPardoAntes['Admissao_Ano'], dfPardoAntes['count'], label='Pardo(a)', linewidth=3)\n",
    "plt.plot(dfAmareloAntes['Admissao_Ano'], dfAmareloAntes['count'], label='Amarelo(a)', linewidth=3)\n",
    "plt.xticks(datas.astype(int), rotation=90)\n",
    "\n",
    "plt.legend()\n",
    "plt.xlabel('Data de Admissao')\n",
    "plt.ylabel('Quantidade')\n",
    "plt.title(\"Perfil étnico antes da pandemia\")\n",
    "plt.show()\n",
    "\n",
    "#plotando durante pandemia\n",
    "plt.figure(figsize=(17,5))\n",
    "dfBrancosDurante = dfEtnicoPorPeriodoDurante[dfEtnicoPorPeriodoDurante['Raca'] == 'Branco(a)']\n",
    "dfPretosDurante = dfEtnicoPorPeriodoDurante[dfEtnicoPorPeriodoDurante['Raca'] == 'Preto(a)']\n",
    "dfIndiponivelDurante = dfEtnicoPorPeriodoDurante[dfEtnicoPorPeriodoDurante['Raca'] == 'Informação não disponível']\n",
    "dfAmareloDurante = dfEtnicoPorPeriodoDurante[dfEtnicoPorPeriodoDurante['Raca'] == 'Amarelo(a)']\n",
    "dfPardoDurante = dfEtnicoPorPeriodoDurante[dfEtnicoPorPeriodoDurante['Raca'] == 'Pardo(a)']\n",
    "dfIndigenaDurante = dfEtnicoPorPeriodoDurante[dfEtnicoPorPeriodoDurante['Raca'] == 'Indígena']\n",
    "\n",
    "# Plotando gráfico de linhas para visualizar evolução ao longo do tempo\n",
    "datas = np.sort(dfEtnicoDurante['Admissao_Ano'].unique())\n",
    "plt.plot(dfBrancosDurante['Admissao_Ano'], dfBrancosDurante['count'], label='Branco(a)', linewidth=3)\n",
    "plt.plot(dfPretosDurante['Admissao_Ano'], dfPretosDurante['count'], label='Preto(a)', linewidth=3)\n",
    "plt.plot(dfIndigenaDurante['Admissao_Ano'], dfIndigenaDurante['count'], label='Indigena', linewidth=3)\n",
    "plt.plot(dfIndiponivelDurante['Admissao_Ano'], dfIndiponivelDurante['count'], label='Indisponível', linewidth=3)\n",
    "plt.plot(dfPardoDurante['Admissao_Ano'], dfPardoDurante['count'], label='Pardo(a)', linewidth=3)\n",
    "plt.plot(dfAmareloDurante['Admissao_Ano'], dfAmareloDurante['count'], label='Amarelo(a)', linewidth=3)\n",
    "plt.xticks(datas.astype(int), rotation=90)\n",
    "\n",
    "plt.legend()\n",
    "plt.xlabel('Data de Admissao')\n",
    "plt.ylabel('Quantidade')\n",
    "plt.title(\"Perfil étnico durante a pandemia\")\n",
    "plt.show()"
   ]
  },
  {
   "cell_type": "markdown",
   "metadata": {},
   "source": [
    "Como podemos observar nos gráficos em 2008 houve um crescente avanço na declaração de etnias com seu ápice em 2018, posteriormente em 2019 houve um aumento significativo dos dados indísponíveis mas em 2020 voltou a se estabilizar\n",
    "\n",
    "Com o crescente aumento da declaração foi possível observar que em todos os gráficos a declaração branca sempre foi maior, seguido da declaração parda e preta.\n",
    "\n",
    "As declarações amarela e indígena, mesmo com o aumento dos dados disponíveis, sempre foram baixas, o que nos indica uma baixa representatividade destas declarações \n",
    "\n",
    "É valido observar também que a maior crescente se deu dado as disponibilidades dos dados."
   ]
  },
  {
   "cell_type": "markdown",
   "metadata": {},
   "source": [
    "## Resposta 3:\n",
    "- Qual é a relação entre a cota de ingresso dos alunos e sua região (estado/sub-região?) de origem?\n",
    "\n",
    "Nessa questão, optou-se por realizar a análise com base na região, para tornar os dados mais claros na visualização."
   ]
  },
  {
   "cell_type": "code",
   "execution_count": null,
   "metadata": {},
   "outputs": [],
   "source": [
    "# CSV que associa estados a regiões\n",
    "dfRegioes = pd.read_csv(\"../Datasets/EstadosERegioes.csv\")\n",
    "\n",
    "t = df[[\"UF_Nascimento\", \"Modalidade_Inscrita\"]].copy(deep=True)\n",
    "t = t[t[\"Modalidade_Inscrita\"] != 0] # ignorando modalidade não informada\n",
    "\n",
    "# Agrupando os dados por região e convertendo para porcentagem\n",
    "cotas_regioes = t.merge(dfRegioes, on='UF_Nascimento')[[\"Regiao\", \"Modalidade_Inscrita\"]]\n",
    "cotas_regioes = cotas_regioes.groupby(\"Regiao\").value_counts(normalize=True).unstack()\n",
    "cotas_regioes = cotas_regioes.mul(100).round(2).fillna(0).reset_index()\n",
    "\n",
    "# Gráfico\n",
    "cotas_regioes.index = cotas_regioes[\"Regiao\"]\n",
    "cotas_regioes.plot(kind=\"bar\", figsize=(10,10))\n",
    "plt.yscale(\"log\")\n",
    "plt.xticks(rotation=0)\n",
    "plt.show()\n",
    "\n",
    "cotas_regioes"
   ]
  },
  {
   "cell_type": "markdown",
   "metadata": {},
   "source": [
    "## Resposta 4: \n",
    "- A quarentena influenciou a diversidade regional dos alunos? Se sim, como?\n",
    "\n",
    "Nessa questão, optou-se por realizar a análise com base na região, para tornar os dados mais claros de visualizar. Para a região sudeste, por ser região de origem da grande maioria dos alunos, foi feita também uma análise por estado. Em ambas as análises, não constatou-se impacto da pandemia na diversidade regional."
   ]
  },
  {
   "cell_type": "code",
   "execution_count": null,
   "metadata": {},
   "outputs": [],
   "source": [
    "# CSV que associada estados a regiões\n",
    "dfRegioes = pd.read_csv(\"../Datasets/EstadosERegioes.csv\")\n",
    "\n",
    "# Ignorando 2023, pois seus dados regionais são insuficientes (incompletos)\n",
    "t = df[[\"Admissao_Ano\", \"UF_Nascimento\"]]\n",
    "admissao_geo = t.merge(dfRegioes, on=\"UF_Nascimento\")\n",
    "admissao_geo = admissao_geo[admissao_geo[\"Admissao_Ano\"] != 2023]\n",
    "\n",
    "# Agrupando por região e convertendo para porcentagem\n",
    "admissao_regiao = admissao_geo[[\"Admissao_Ano\", \"Regiao\"]]\n",
    "admissao_regiao = admissao_regiao.groupby(\"Admissao_Ano\").value_counts(normalize=True).unstack()\n",
    "admissao_regiao = admissao_regiao.mul(100).round(2).reset_index()\n",
    "\n",
    "# Gráfico por região\n",
    "plt.figure(figsize=(17,5))\n",
    "plt.plot(admissao_regiao[\"Admissao_Ano\"], admissao_regiao[\"Norte\"], label=\"Norte\")\n",
    "plt.plot(admissao_regiao[\"Admissao_Ano\"], admissao_regiao[\"Nordeste\"], label=\"Nordeste\")\n",
    "plt.plot(admissao_regiao[\"Admissao_Ano\"], admissao_regiao[\"Centro-oeste\"], label=\"Centro-oeste\")\n",
    "plt.plot(admissao_regiao[\"Admissao_Ano\"], admissao_regiao[\"Sudeste\"], label=\"Sudeste\")\n",
    "plt.plot(admissao_regiao[\"Admissao_Ano\"], admissao_regiao[\"Sul\"], label=\"Sul\")\n",
    "plt.yscale(\"log\")\n",
    "plt.ylabel(\"Porcentagem de alunos admitidos\")\n",
    "plt.xlabel(\"Ano de Admissão\")\n",
    "plt.title(\"Distribuição regional percentual dos alunos admitidos na UFV a cada ano\")\n",
    "plt.legend()\n",
    "plt.show()\n",
    "\n",
    "# Filtrando pela região sudeste, agrupando por estado e convertendo para porcentagem\n",
    "admissao_sudeste = admissao_geo[admissao_geo[\"Regiao\"] == \"Sudeste\"][[\"UF_Nascimento\", \"Admissao_Ano\"]]\n",
    "admissao_sudeste = admissao_sudeste.groupby(\"Admissao_Ano\").value_counts(normalize=True).unstack()\n",
    "admissao_sudeste = admissao_sudeste.mul(100).round(200).reset_index()\n",
    "\n",
    "# Gráfico por estado do sudeste\n",
    "plt.figure(figsize=(17,5))\n",
    "plt.plot(admissao_sudeste[\"Admissao_Ano\"], admissao_sudeste[\"MG\"], label=\"Minas Gerais\")\n",
    "plt.plot(admissao_sudeste[\"Admissao_Ano\"], admissao_sudeste[\"SP\"], label=\"São Paulo\")\n",
    "plt.plot(admissao_sudeste[\"Admissao_Ano\"], admissao_sudeste[\"ES\"], label=\"Espírito Santo\")\n",
    "plt.plot(admissao_sudeste[\"Admissao_Ano\"], admissao_sudeste[\"RJ\"], label=\"Rio de Janeiro\")\n",
    "plt.ylabel(\"Porcentagem de alunos do Sudeste admitidos\")\n",
    "plt.xlabel(\"Ano de Admissão\")\n",
    "plt.title(\"Distribuição estadual percentual dos alunos do Sudeste admitidos na UFV a cada ano\")\n",
    "plt.legend()\n",
    "plt.show()\n",
    "\n",
    "admissao_regiao"
   ]
  },
  {
   "cell_type": "markdown",
   "metadata": {},
   "source": [
    "## Resposta 5\n",
    "-  A quarentena influenciou a ingreso mais diverso de alunos em relação ao gênero no curso de Ciência da Computação? Se sim, como?"
   ]
  },
  {
   "cell_type": "code",
   "execution_count": null,
   "metadata": {},
   "outputs": [],
   "source": [
    "# Quarentena (a partir do 1º ano que houve ingressantes, 2020 a 2022)\n",
    "dfQ5 = df.copy()\n",
    "\n",
    "dfQ5 = dfQ5[dfQ5['Curso'] == 'CIENCIA DA COMPUTACAO']\n",
    "\n",
    "dfQ5_prePandemia = dfQ5[dfQ5['Admissao_Ano'] < 2020]\n",
    "dfQ5_posPandemia = dfQ5[dfQ5['Admissao_Ano'] >= 2020]\n",
    "\n",
    "dfQ5_prePandemia_genero = dfQ5_prePandemia['Sexo'].value_counts(normalize=True).reset_index()\n",
    "dfQ5_prePandemia_genero['proportion'] = dfQ5_prePandemia_genero['proportion'] * 100\n",
    "dfQ5_posPandemia_genero = dfQ5_posPandemia.groupby('Admissao_Ano')['Sexo'].value_counts(normalize=True).reset_index()\n",
    "dfQ5_posPandemia_genero['proportion'] = dfQ5_posPandemia_genero['proportion'] * 100\n",
    "\n",
    "plt.figure(figsize=(10, 9))\n",
    "\n",
    "plt.subplot(2, 2, 1)  \n",
    "plt.bar(data=dfQ5_prePandemia_genero, x='Sexo', height='proportion')\n",
    "plt.xticks(rotation=0)\n",
    "plt.title('Pré-pandemia')\n",
    "plt.yticks(range(0, 101, 5))\n",
    "\n",
    "\n",
    "\n",
    "count = 2\n",
    "for admissao in (dfQ5_posPandemia_genero['Admissao_Ano'].unique()):\n",
    "    plt.subplot(2, 2, count)  # Definindo o subplot para o campus atual\n",
    "    plt.bar(data=dfQ5_posPandemia_genero[dfQ5_posPandemia_genero['Admissao_Ano'] == admissao], x='Sexo', height='proportion')\n",
    "    plt.title(f'Pós-pandemia ({admissao})')\n",
    "    plt.yticks(range(0, 101, 5))\n",
    "    count+=1\n",
    "\n",
    "print(dfQ5_prePandemia_genero)\n",
    "dfQ5_posPandemia_genero\n",
    "\n",
    "plt.show()\n"
   ]
  },
  {
   "cell_type": "markdown",
   "metadata": {},
   "source": [
    "## Resposta 6:\n",
    "- Como a demanda por curso foi afetada pela passagem do tempo? E pela pandemia?\n"
   ]
  },
  {
   "cell_type": "code",
   "execution_count": null,
   "metadata": {},
   "outputs": [],
   "source": [
    "# Quarentena (a partir do 1º ano que houve ingressantes, 2020 a 2022)\n",
    "dfQ5 = df.copy()\n",
    "\n",
    "dfQ5_prePandemia = dfQ5[dfQ5['Admissao_Ano'] < 2020]\n",
    "dfQ5_posPandemia = dfQ5[dfQ5['Admissao_Ano'] >= 2020]\n",
    "\n",
    "pre_cursos_count = dfQ5_prePandemia['Curso'].value_counts(normalize=True).reset_index().sort_values(by='proportion', ascending=False)\n",
    "pos_cursos_count = dfQ5_posPandemia['Curso'].value_counts(normalize=True).reset_index().sort_values(by='proportion', ascending=False)\n",
    "\n",
    "pre_cursos_count['proportion'] = pre_cursos_count['proportion'] * 100\n",
    "pos_cursos_count['proportion'] = pos_cursos_count['proportion'] * 100\n",
    "\n",
    "pre_cursos_count\n",
    "# pos_cursos_count"
   ]
  },
  {
   "cell_type": "markdown",
   "metadata": {},
   "source": [
    "## Resposta 7:\n",
    "- Qual é o tempo de permanência média por curso ao longo do tempo? (destaque para a pandemia)\n",
    "\n",
    "Para ver como a pandemia infuenciou o tempo de duração, basta calcular o tempo de duração do curso antes da pandemia \n",
    "(pessoas que se formaram antes da pandemia) e calcular o tempo de duração do curso das pessoas que em algum momento\n",
    "tiveram contato com a pandemia (pessoas que saíram durante e depois de 2020)"
   ]
  },
  {
   "cell_type": "code",
   "execution_count": null,
   "metadata": {},
   "outputs": [],
   "source": [
    "# Copiar o DataFrame\n",
    "dfQ7 = df.copy()\n",
    "\n",
    "# Remover entradas com 'Saida' igual a '0'\n",
    "dfQ7 = dfQ7.drop(dfQ7[dfQ7['Saida'] == '0'].index)\n",
    "\n",
    "# Filtrar apenas os alunos com status de curso concluído\n",
    "dfQ7 = dfQ7[dfQ7['Codigo_Situacao_Aluno'].isin(['C', 'B', 'I'])]\n",
    "\n",
    "\n",
    "# Calcular o tempo de duração\n",
    "dfQ7['TempoDuracao'] = dfQ7['Saida_Ano'] - dfQ7['Admissao_Ano']\n",
    "\n",
    "# Separa os alunos que não passaram pela pandemia\n",
    "dfSemPandemia = dfQ7[dfQ7['Saida_Ano'] < 2020]\n",
    "\n",
    "# Separa os alunos que passaram pela pandemia\n",
    "dfComPandemia = dfQ7[dfQ7['Saida_Ano'] >= 2020]\n",
    "\n",
    "dfSemPandemia_cursos = dfSemPandemia.groupby('Curso')['TempoDuracao'].mean().reset_index()\n",
    "#dfSemPandemia_cursos['TempoDuracao'] = round(dfSemPandemia_cursos['TempoDuracao'])\n",
    "\n",
    "dfComPandemia_cursos = dfComPandemia.groupby('Curso')['TempoDuracao'].mean().reset_index()\n",
    "#dfComPandemia_cursos['TempoDuracao'] = round(dfComPandemia_cursos['TempoDuracao'])\n",
    "\n",
    "\n",
    "\n",
    "# Mostrar os resultados\n",
    "print(\"\\t\\tTempo de duração dos cursos antes da pandemia\")\n",
    "dfSemPandemia_cursos.set_index('Curso', inplace=True)\n",
    "display(dfSemPandemia_cursos)\n",
    "\n",
    "print(\"\\n\\t\\tTempo de duração dos cursos depois da pandemia\")\n",
    "dfComPandemia_cursos.set_index('Curso', inplace=True)\n",
    "display(dfComPandemia_cursos)\n",
    "\n",
    "print(\"\\n\\t\\tDiferença no tempo de duração dos cursos, antes e depois da pandemia\")\n",
    "diferençaTempo = dfComPandemia_cursos.copy()\n",
    "diferençaTempo['TempoDuracao'] = dfComPandemia_cursos['TempoDuracao'].sub(dfSemPandemia_cursos['TempoDuracao'])\n",
    "display(diferençaTempo)\n",
    "\n",
    "computaçãoConcluidoSP = dfSemPandemia[dfSemPandemia['Curso'] == 'CIENCIA DA COMPUTACAO']\n",
    "computaçãoConcluidoSP = computaçãoConcluidoSP[[\"Identificador\", \"TempoDuracao\"]] \n",
    "computaçãoConcluidoSP.groupby('TempoDuracao').count().plot(kind='bar', color='#EF2D56')\n",
    "plt.title(\"Antes da pandemia\")\n",
    "plt.show()\n",
    "\n",
    "computaçãoConcluidoCP = dfComPandemia[dfComPandemia['Curso'] == 'CIENCIA DA COMPUTACAO']\n",
    "computaçãoConcluidoCP = computaçãoConcluidoCP[[\"Identificador\", \"TempoDuracao\"]] \n",
    "computaçãoConcluidoCP.groupby('TempoDuracao').count().plot(kind='bar', color='#EF2D56')\n",
    "plt.title(\"Depois da pandemia\")\n",
    "plt.show()"
   ]
  },
  {
   "cell_type": "markdown",
   "metadata": {},
   "source": [
    "Identificador são as matrículas dos alunos, (esses gráficos contaram quantos alunos concluiram o curso antes e depois da pandemia)\n",
    "com os gráficos e com a tabela criada foi possível identificar que houve um aumento médio no tempo que os alunos demorarm para concluir o curso.\n",
    "\n",
    "Tendo um olhar para o curso de computação foi adicionado de um semestre a um ano a mais (visto que há alunos que entraram em semestre impares) para finalização do curso. Não é possível ver se a pandemia impactou a longo prazo pois não há dados suficientes, mas com o que temos vimos que a curto e médio prazo gerou um certo impacto."
   ]
  },
  {
   "cell_type": "markdown",
   "metadata": {},
   "source": [
    "## Resposta 8: \n",
    "- Como evoluíram as notas do enem nos três campus, ao longo do tempo (por ano)? E como foi essa evolução por cotas?\n"
   ]
  },
  {
   "cell_type": "markdown",
   "metadata": {},
   "source": [
    "### Evolução por Campus"
   ]
  },
  {
   "cell_type": "code",
   "execution_count": null,
   "metadata": {},
   "outputs": [],
   "source": [
    "# Criando um DataFrame para manipulação desta questão\n",
    "dfQ8 = df[['ENEM', 'Admissao_Ano', 'Modalidade_Inscrita', 'Campus']]\n",
    "# Convertendo valores para numerico\n",
    "dfQ8['ENEM'] = pd.to_numeric(dfQ8['ENEM'], errors='coerce')\n",
    "# Dropando valores de notas nulos\n",
    "dfQ8 = dfQ8.dropna(subset=['ENEM'])\n",
    "\n",
    "# Media dos campus por ano de admissão\n",
    "dfQ8 = dfQ8.groupby(['Campus', 'Admissao_Ano'])['ENEM'].mean().reset_index().sort_values(by='Admissao_Ano')\n",
    "\n",
    "plt.figure(figsize=(17,5))\n",
    "\n",
    "# Para cada campus uma linha (uma plotagem)\n",
    "for campus in dfQ8['Campus'].unique():\n",
    "    campus_data = dfQ8[dfQ8['Campus'] == campus]\n",
    "    plt.plot(campus_data['Admissao_Ano'], campus_data['ENEM'], label=campus, linewidth=3)\n",
    "\n",
    "plt.xlabel('Ano de Admissão')\n",
    "plt.ylabel('Nota Média do ENEM')\n",
    "plt.title('Evolução das Notas do ENEM por campus da UFV ao Longo do Tempo')\n",
    "plt.legend(title='Campus')\n",
    "plt.grid(True)\n",
    "plt.xticks(rotation=45)  # Rotacionar os rótulos dos anos se necessário\n",
    "plt.show()\n",
    "\n"
   ]
  },
  {
   "cell_type": "markdown",
   "metadata": {},
   "source": [
    "### Evolução por Cotas em cada Campus"
   ]
  },
  {
   "cell_type": "code",
   "execution_count": null,
   "metadata": {},
   "outputs": [],
   "source": [
    "# Criando um DataFrame para manipulação desta questão\n",
    "dfQ8 = df[['ENEM', 'Admissao_Ano', 'Modalidade_Inscrita', 'Campus']]\n",
    "\n",
    "# Dropando valores de notas nulos\n",
    "dfQ8 = dfQ8.dropna(subset=['ENEM'])\n",
    "\n",
    "# Media dos campus e cotas por ano de admissão\n",
    "dfQ8 = dfQ8.groupby(['Campus', 'Admissao_Ano', 'Modalidade_Inscrita'])['ENEM'].mean().reset_index().sort_values(by='Admissao_Ano')\n",
    "\n",
    "num_campus = len(dfQ8['Campus'].unique())\n",
    "plt.figure(figsize=(15, 8 * num_campus))\n",
    "\n",
    "count = 1\n",
    "# Para cada campus uma plotagem --> configurando para CADA grafico\n",
    "for campus in dfQ8['Campus'].unique():\n",
    "    plt.subplot(num_campus, 1, count)  # Definindo o subplot para o campus atual\n",
    "    campus_data = dfQ8[dfQ8['Campus'] == campus]\n",
    "    sns.lineplot(data=campus_data, x='Admissao_Ano', y='ENEM', hue='Modalidade_Inscrita', palette=sns.color_palette(), linewidth=3)\n",
    "    plt.title(f'Evolução das Notas do ENEM - {campus}')\n",
    "    plt.xlabel('Ano de Admissão')\n",
    "    plt.ylabel('Nota Média do ENEM')\n",
    "    plt.grid(True)\n",
    "    plt.xticks(rotation=45)  # Rotacionar os rótulos dos anos se necessário\n",
    "    plt.tight_layout()  # Ajustar layout para evitar sobreposição\n",
    "    count += 1\n",
    "    \n",
    "    \n",
    "plt.show()\n",
    "\n",
    "\n",
    "# dfQ8\n"
   ]
  },
  {
   "cell_type": "markdown",
   "metadata": {},
   "source": [
    "## Resposta 9:\n",
    "- Como é a média do CR por curso e por ano?"
   ]
  },
  {
   "cell_type": "markdown",
   "metadata": {},
   "source": [
    "### Análise do CRA por curso"
   ]
  },
  {
   "cell_type": "markdown",
   "metadata": {},
   "source": [
    "Vamos selecionar as colunas que importam para essa questão"
   ]
  },
  {
   "cell_type": "code",
   "execution_count": null,
   "metadata": {},
   "outputs": [],
   "source": [
    "dfCRACurso = df[['CRA', 'Curso']]"
   ]
  },
  {
   "cell_type": "markdown",
   "metadata": {},
   "source": [
    "Realizando a média do CRA por cursos, tem-se:"
   ]
  },
  {
   "cell_type": "code",
   "execution_count": null,
   "metadata": {},
   "outputs": [],
   "source": [
    "dfCRACurso.groupby('Curso').mean()"
   ]
  },
  {
   "cell_type": "markdown",
   "metadata": {},
   "source": [
    "Como existem 56 cursos, a visualização dos dados torna-se muito difícil de ser realizada. Por conta disso, se decidiu avaliar pro ÁREA e não por CURSO. Dessa forma, nós criamos um _dataset_ com diversas áreas e os cursos que elas contém, para facilitar o tratamento. Isso foi feito manualmente. Os dados foram obtidos no link [Categorias de cursos](https://www.ibirapuera.br/veja-como-e-feita-a-divisao-dos-cursos-de-graduacao-entre-as-areas-de-conhecimento/)"
   ]
  },
  {
   "cell_type": "code",
   "execution_count": null,
   "metadata": {},
   "outputs": [],
   "source": [
    "# Lendo o CSV com as Áreas e Cursos\n",
    "dfAreasECursos = pd.read_csv('../Datasets/AreasECursos.csv')\n",
    "dfAreasECursos"
   ]
  },
  {
   "cell_type": "code",
   "execution_count": null,
   "metadata": {},
   "outputs": [],
   "source": [
    "dfCRAArea = df[['Area','CRA']]\n",
    "df"
   ]
  },
  {
   "cell_type": "markdown",
   "metadata": {},
   "source": [
    "Plotando gráfico:\n"
   ]
  },
  {
   "cell_type": "code",
   "execution_count": null,
   "metadata": {},
   "outputs": [],
   "source": [
    "dfCRAArea = dfCRAArea.groupby('Area').mean().sort_values(by='CRA', ascending=False)\n",
    "sns.barplot(dfCRAArea, y='Area', x='CRA', color=\"#ff0000\", errorbar=None)\n",
    "plt.title('CRA por Área')"
   ]
  },
  {
   "cell_type": "markdown",
   "metadata": {},
   "source": [
    "#### Análise de CRA por Ano"
   ]
  },
  {
   "cell_type": "markdown",
   "metadata": {},
   "source": [
    "Observe que o CRA é o Coeficiente de Rendimento Acumulado, ou seja, a média dos CRs desde a entrada do estudante no curso até sua saída. Logo, se desejamos saber qual a média de CRA por ano, devemos pegar apenas os anos de saída, pois são nesses anos que foi calculado pela última vez o CRA do aluno"
   ]
  },
  {
   "cell_type": "code",
   "execution_count": null,
   "metadata": {},
   "outputs": [],
   "source": [
    "# Pegando dados que importam\n",
    "dfQ13porAno = df[['CRA', 'Saida_Ano']]\n",
    "dfQ13porAno"
   ]
  },
  {
   "cell_type": "code",
   "execution_count": null,
   "metadata": {},
   "outputs": [],
   "source": [
    "dfQ13porAno = dfQ13porAno.groupby('Saida_Ano').mean('CRA').reset_index()\n",
    "dfQ13porAno['Saida_Ano'].size"
   ]
  },
  {
   "cell_type": "code",
   "execution_count": null,
   "metadata": {},
   "outputs": [],
   "source": [
    "# sns.barplot(dfQ13porAno, x='Saida', y='CRA', palette=['#ff0000'])\n",
    "cores=['#ff0000' for i in range(dfQ13porAno['Saida_Ano'].size)]\n",
    "cores[0] = '#0000ff' # Vamos colorir a primeira coluna diferente das outras. Será interessante para a visualizaçao\n",
    "sns.barplot(dfQ13porAno, x='Saida_Ano', y='CRA',palette=cores)\n",
    "plt.xticks(rotation=90)\n",
    "plt.plot()"
   ]
  },
  {
   "cell_type": "markdown",
   "metadata": {},
   "source": [
    "Note que existe uma média muito alta para as pessoas que sairam no ano 0 (azul). Isso é um fator muito interessante, visto que não se sabe o que é esse ano 0. Note que também não é um valor inválido como Nan. Portanto, vamos tentar dar uma olhada no que esse dado significa"
   ]
  },
  {
   "cell_type": "markdown",
   "metadata": {},
   "source": [
    "#### Selecionando as colunas onde o ano de saída é 0"
   ]
  },
  {
   "cell_type": "code",
   "execution_count": null,
   "metadata": {},
   "outputs": [],
   "source": [
    "dfSaida0 = df[df['Saida_Ano'] == 0]\n",
    "dfSaida0.info()"
   ]
  },
  {
   "cell_type": "code",
   "execution_count": null,
   "metadata": {},
   "outputs": [],
   "source": [
    "print('\\nAnalisando exploratoriamente os dados dos alunos com Ano de saída == 0\\n')\n",
    "for column in ['Admissao_Ano', 'Num_Reprovacoes', 'Situacao_Aluno','Situacao_Aluno_Agrupada']:\n",
    "    print(f'\\nColuna: {column}\\n', dfSaida0[column].value_counts())\n",
    "print('\\nAnalisando exploratoriamente os dados dos alunos com Ano de saída != 0\\n')\n",
    "for column in ['Admissao_Ano', 'Num_Reprovacoes', 'Situacao_Aluno','Situacao_Aluno_Agrupada']:\n",
    "    print(f'\\nColuna: {column}\\n', df[df['Saida_Ano'] != 0][column].value_counts())"
   ]
  },
  {
   "cell_type": "markdown",
   "metadata": {},
   "source": [
    "Analizando exploratoriamente os dados, é possível perceber que os alunos com ano de saída igual a 0 são, em sua maioria, alunos que entraram na UFV nos últimos 6 anos e que ainda estão matrículados. Portanto, existem uma forte possibilidade de que sejam alunos que ainda não formaram. Porém não é possível afirmar nada com certeza absoluta, requerendo portanto steps adicionais de verificações tais como testes de hipótese."
   ]
  },
  {
   "cell_type": "markdown",
   "metadata": {},
   "source": [
    "## Resposta 10\n",
    "\n",
    "- Qual campus recebe mais pessoas de fora do estado de Minas Gerais?"
   ]
  },
  {
   "cell_type": "code",
   "execution_count": null,
   "metadata": {},
   "outputs": [],
   "source": [
    "# Primeiramente, deve-se descobrir quais os campus existentes\n",
    "df['Campus'].value_counts()"
   ]
  },
  {
   "cell_type": "markdown",
   "metadata": {},
   "source": [
    "Após uma rápida pesquisa, foi descoberto o seguinte padrão de nomenclatura:\n",
    "- CAV: Campus Viçosa\n",
    "- CAF: Campus Florestal\n",
    "- CRP: Campus Rio Parnaíba"
   ]
  },
  {
   "cell_type": "markdown",
   "metadata": {},
   "source": [
    "Separando os dados importantes:"
   ]
  },
  {
   "cell_type": "code",
   "execution_count": null,
   "metadata": {},
   "outputs": [],
   "source": [
    "dfCampus = df[['Campus','UF_Nascimento']]\n",
    "dfCampus"
   ]
  },
  {
   "cell_type": "markdown",
   "metadata": {},
   "source": [
    "Filtrando por campus:"
   ]
  },
  {
   "cell_type": "code",
   "execution_count": null,
   "metadata": {},
   "outputs": [],
   "source": [
    "dfCampusCav = dfCampus[dfCampus['Campus'] == 'CAV']\n",
    "dfCampusCrp = dfCampus[dfCampus['Campus'] == 'CRP']\n",
    "dfCampusCaf = dfCampus[dfCampus['Campus'] == 'CAF']\n"
   ]
  },
  {
   "cell_type": "markdown",
   "metadata": {},
   "source": [
    "Contando o total de ocorrências de cada UF para cada Campus"
   ]
  },
  {
   "cell_type": "code",
   "execution_count": null,
   "metadata": {},
   "outputs": [],
   "source": [
    "dfCampusCavCount= dfCampusCav['UF_Nascimento'].value_counts().reset_index().sort_values(by='count', ascending=False)\n",
    "dfCampusCafCount= dfCampusCaf['UF_Nascimento'].value_counts().reset_index().sort_values(by='count', ascending=False)\n",
    "dfCampusCrpCount= dfCampusCrp['UF_Nascimento'].value_counts().reset_index().sort_values(by='count', ascending=False)\n",
    "dfCampusCav"
   ]
  },
  {
   "cell_type": "markdown",
   "metadata": {},
   "source": [
    "No processo de plotagem de grafico, pode-se perceber que é muito comum haverem valores que atrapalham a visualização, visto que muitas vezes são valores muito pequenos. Portanto, uma função que agrupa-se esses valores pequenos como sendo 'OUTROS' seria muito util:"
   ]
  },
  {
   "cell_type": "code",
   "execution_count": null,
   "metadata": {},
   "outputs": [],
   "source": [
    "# Recebe uma coluna de value_counts, uma coluna base, e filtra a coluna base substituindo os valores por 'OUTROS' dada uma porcentagem. E outras palavras, substitui os valores de columnValue por 'Outros' se o valor representar abaixo de uma determinada porcentagem\n",
    "def GroupSmallDataIntoOthers(df, columnValue,valueCounts, value=0.005):\n",
    "    df = df.copy()\n",
    "    total = df[valueCounts].sum()\n",
    "    df['CountOthers'] = (df[valueCounts]/total > value)\n",
    "    df[columnValue] = df[columnValue].where(df['CountOthers'], 'OUTROS')\n",
    "    df = df.drop(columns=['CountOthers'])\n",
    "    df = df.groupby(columnValue).sum().sort_values(by=valueCounts, ascending=False).reset_index()\n",
    "    return df\n"
   ]
  },
  {
   "cell_type": "markdown",
   "metadata": {},
   "source": [
    "Filtrando dados pouco significantes numa unica categoria: Outros"
   ]
  },
  {
   "cell_type": "code",
   "execution_count": null,
   "metadata": {},
   "outputs": [],
   "source": [
    "dfCavFiltrado = GroupSmallDataIntoOthers(dfCampusCavCount, 'UF_Nascimento', 'count', value=0.007)\n",
    "dfCafFiltrado = GroupSmallDataIntoOthers(dfCampusCafCount, 'UF_Nascimento', 'count', value=0.007)\n",
    "dfCrpFiltrado = GroupSmallDataIntoOthers(dfCampusCrpCount, 'UF_Nascimento', 'count', value=0.01)\n",
    "dfCrpFiltrado"
   ]
  },
  {
   "cell_type": "markdown",
   "metadata": {},
   "source": [
    "Após a filtragem"
   ]
  },
  {
   "cell_type": "code",
   "execution_count": null,
   "metadata": {},
   "outputs": [],
   "source": [
    "plt.pie(dfCavFiltrado['count'], labels=dfCavFiltrado['UF_Nascimento'] ,autopct='%1.1f%%')\n",
    "plt.title('Total de alunos por UF no campus de Viçosa')\n",
    "plt.show()\n",
    "plt.pie(dfCafFiltrado['count'], labels=dfCafFiltrado['UF_Nascimento'] ,autopct='%1.1f%%')\n",
    "plt.title('Total de alunos por UF no campus de Florestal')\n",
    "plt.show()\n",
    "plt.pie(dfCrpFiltrado['count'], labels=dfCrpFiltrado['UF_Nascimento'] ,autopct='%1.1f%%')\n",
    "plt.title('Total de alunos por UF no campus de Rio Parnaíba')\n",
    "plt.show()\n",
    "\n",
    "# ax.pie(list(dfCampus['count']), labels=dfCampus['UF_Nascimento'], autopct='%1.1f%%"
   ]
  },
  {
   "cell_type": "code",
   "execution_count": 4,
   "metadata": {},
   "outputs": [
    {
     "data": {
      "text/plain": [
       "['AGRONOMIA',\n",
       " 'ADMINISTRACAO',\n",
       " 'CIENCIAS BIOLOGICAS',\n",
       " 'QUIMICA',\n",
       " 'EDUCACAO FISICA']"
      ]
     },
     "metadata": {},
     "output_type": "display_data"
    },
    {
     "data": {
      "text/html": [
       "<div>\n",
       "<style scoped>\n",
       "    .dataframe tbody tr th:only-of-type {\n",
       "        vertical-align: middle;\n",
       "    }\n",
       "\n",
       "    .dataframe tbody tr th {\n",
       "        vertical-align: top;\n",
       "    }\n",
       "\n",
       "    .dataframe thead th {\n",
       "        text-align: right;\n",
       "    }\n",
       "</style>\n",
       "<table border=\"1\" class=\"dataframe\">\n",
       "  <thead>\n",
       "    <tr style=\"text-align: right;\">\n",
       "      <th></th>\n",
       "      <th>Curso</th>\n",
       "      <th>TempoDuracao</th>\n",
       "    </tr>\n",
       "  </thead>\n",
       "  <tbody>\n",
       "    <tr>\n",
       "      <th>0</th>\n",
       "      <td>ADMINISTRACAO</td>\n",
       "      <td>4.125225</td>\n",
       "    </tr>\n",
       "    <tr>\n",
       "      <th>1</th>\n",
       "      <td>AGRONOMIA</td>\n",
       "      <td>4.610827</td>\n",
       "    </tr>\n",
       "    <tr>\n",
       "      <th>2</th>\n",
       "      <td>CIENCIAS BIOLOGICAS</td>\n",
       "      <td>3.879393</td>\n",
       "    </tr>\n",
       "    <tr>\n",
       "      <th>3</th>\n",
       "      <td>EDUCACAO FISICA</td>\n",
       "      <td>3.629916</td>\n",
       "    </tr>\n",
       "    <tr>\n",
       "      <th>4</th>\n",
       "      <td>QUIMICA</td>\n",
       "      <td>3.641184</td>\n",
       "    </tr>\n",
       "  </tbody>\n",
       "</table>\n",
       "</div>"
      ],
      "text/plain": [
       "                 Curso  TempoDuracao\n",
       "0        ADMINISTRACAO      4.125225\n",
       "1            AGRONOMIA      4.610827\n",
       "2  CIENCIAS BIOLOGICAS      3.879393\n",
       "3      EDUCACAO FISICA      3.629916\n",
       "4              QUIMICA      3.641184"
      ]
     },
     "metadata": {},
     "output_type": "display_data"
    }
   ],
   "source": [
    "# Copiar o DataFrame\n",
    "dfQ11= df.copy()\n",
    "\n",
    "# Definindo os cinco cursos mais frequentados\n",
    "cursos_Frequentados = list(dfQ11['Curso'].value_counts().head(5).index)\n",
    "display(cursos_Frequentados)\n",
    "\n",
    "dfQ11 = dfQ11[dfQ11['Curso'].isin(cursos_Frequentados)]\n",
    "\n",
    "# Remover entradas com 'Saida' igual a '0'\n",
    "dfQ11 = dfQ11.drop(dfQ11[dfQ11['Saida'] == '0'].index)\n",
    "\n",
    "# Filtrar apenas os alunos com status de curso concluído\n",
    "dfQ11 = dfQ11[dfQ11['Codigo_Situacao_Aluno'].isin(['C', 'B', 'I'])]\n",
    "\n",
    "# Calcular o tempo de duração\n",
    "dfQ11['TempoDuracao'] = dfQ11['Saida_Ano'] - dfQ11['Admissao_Ano']\n",
    "\n",
    "dfQ11_cursos = dfQ11.groupby('Curso')['TempoDuracao'].mean().reset_index()\n",
    "\n",
    "# Mostrar os resultados\n",
    "dfQ11_cursos.head()\n",
    "# print(dfQ11_cursos['TempoDuracao'].mean())\n",
    "display(dfQ11_cursos)"
   ]
  },
  {
   "cell_type": "code",
   "execution_count": 6,
   "metadata": {},
   "outputs": [
    {
     "data": {
      "image/png": "[encoded data removed]",
      "text/plain": [
       "<Figure size 1200x600 with 1 Axes>"
      ]
     },
     "metadata": {},
     "output_type": "display_data"
    }
   ],
   "source": [
    "import matplotlib.pyplot as plt\n",
    "import seaborn as sns\n",
    "\n",
    "plt.figure(figsize=(12, 6))\n",
    "sns.boxplot(x='Curso', y='TempoDuracao', data=dfQ11)\n",
    "plt.xticks(rotation=45)\n",
    "plt.title('Distribuição do Tempo de Duração por Curso')\n",
    "plt.show()\n"
   ]
  },
  {
   "cell_type": "markdown",
   "metadata": {},
   "source": [
    "### Conclusão 11"
   ]
  },
  {
   "cell_type": "markdown",
   "metadata": {},
   "source": [
    "Para fazermos essa analise foi necessário coletar as informações de tempo de duração de cada curso, disponibilizado pela propria coordenação de cada curso no site de dominio Universidade Federal de Viçosa.\n",
    "Fazendo essa pesquisa obtivemos que:\n",
    "- "
   ]
  }
 ],
 "metadata": {
  "kernelspec": {
   "display_name": "Python 3",
   "language": "python",
   "name": "python3"
  },
  "language_info": {
   "codemirror_mode": {
    "name": "ipython",
    "version": 3
   },
   "file_extension": ".py",
   "mimetype": "text/x-python",
   "name": "python",
   "nbconvert_exporter": "python",
   "pygments_lexer": "ipython3",
   "version": "3.12.3"
  }
 },
 "nbformat": 4,
 "nbformat_minor": 2
}
