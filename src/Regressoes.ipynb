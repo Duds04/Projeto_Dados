{
 "cells": [
  {
   "cell_type": "markdown",
   "metadata": {},
   "source": [
    "# Trabalho prático de dados, parte 2\n",
    "\n",
    "Nesta etapa do trabalho prático, o grupo precisava aplicar algum algoritmo de aprendizagem\n",
    "(regras de associação, regressão, aprendizado supervisionado ou aprendizado não-supervisionado)\n",
    "para classificar ou agrupar os dados e, assim, tentar prever algum acontecimento desconhecido, com\n",
    "foco em evasão, nota do ENEM e CRA."
   ]
  },
  {
   "cell_type": "markdown",
   "metadata": {},
   "source": [
    "## Imports básicos"
   ]
  },
  {
   "cell_type": "code",
   "execution_count": null,
   "metadata": {},
   "outputs": [],
   "source": [
    "import pandas as pd\n",
    "import numpy as np\n",
    "import matplotlib.pyplot as plt\n",
    "import seaborn as sns\n",
    "import scipy\n",
    "import sklearn\n",
    "from sklearn.linear_model import LinearRegression\n",
    "import statsmodels.api as sm\n"
   ]
  },
  {
   "cell_type": "markdown",
   "metadata": {},
   "source": [
    "## Lendo dataset"
   ]
  },
  {
   "cell_type": "code",
   "execution_count": null,
   "metadata": {},
   "outputs": [],
   "source": [
    "df = pd.read_csv(\"../Datasets/dadosFiltrados.csv\")\n",
    "df.info()"
   ]
  },
  {
   "cell_type": "markdown",
   "metadata": {},
   "source": [
    "### Selecionando atributos significativos\n",
    "\n",
    "Vamos primeiramente realizar uma plotagem dos atributos do datasets para ver se conseguimos encontrar alguma correlação pelos gráficos. Para isso, foram selecionadas algumas colunas que possivelmente apresentarão resultados significativos"
   ]
  },
  {
   "cell_type": "code",
   "execution_count": null,
   "metadata": {},
   "outputs": [],
   "source": [
    "dfPlot = df[[\n",
    "    \"Ano_Nascimento\" ,\n",
    "    \"Sexo\" ,\n",
    "    \"Campus\" ,\n",
    "    \"Curso_Identificador\" ,\n",
    "    \"UF_Nascimento\" ,\n",
    "    \"Codigo_Situacao_Aluno\" ,\n",
    "    \"Modalidade_Inscrita\" ,\n",
    "    \"ENEM\" ,\n",
    "    \"Num_Reprovacoes\" ,\n",
    "    \"Raca\" ,\n",
    "    \"CRA\" ,\n",
    "    \"Area\" ,\n",
    "    \"Admissao_Ano\",\n",
    "    \"Saida_Ano\",\n",
    "]]\n",
    "# Colunas não usadas\n",
    "# [\"Identificador\" , \n",
    "# \"Curso\" ,\n",
    "# \"UF_Nascimento\" ,\n",
    "# \"Admissao\" ,\n",
    "# \"Saida\" ,\n",
    "# \"Situacao_Aluno\" ,\n",
    "# \"Situacao_Aluno_Agrupada\" ,\n",
    "# \"Admissao_Semestre\",\n",
    "# \"Saida_Semestre\"]\n",
    "\n",
    "# Vamos converter os atributos desse dataset que são categoricos para variaveis discretas\n",
    "colunas = dfPlot.select_dtypes(include=['object']).columns\n",
    "for col in colunas:\n",
    "    dfPlot[col] = dfPlot[col].astype('category')\n",
    "for col in colunas:\n",
    "    dfPlot[col] = dfPlot[col].cat.codes\n",
    "dfPlot = dfPlot[dfPlot['Saida_Ano'] != 0]\n",
    "dfPlot\n"
   ]
  },
  {
   "cell_type": "code",
   "execution_count": null,
   "metadata": {},
   "outputs": [],
   "source": [
    "plt.figure(figsize=(17, 17))\n",
    "sns.pairplot(dfPlot, corner=True)\n",
    "plt.savefig('Imagens/pairplot.png', format='png', dpi=300)"
   ]
  },
  {
   "cell_type": "markdown",
   "metadata": {},
   "source": [
    "Para uma visualização mais detalhada, é recomendável abrir a imagem separadamente em [Imagens/pairplot.png](Imagens/pairplot.png)"
   ]
  },
  {
   "cell_type": "code",
   "execution_count": null,
   "metadata": {},
   "outputs": [],
   "source": [
    "# [\"Identificador\" , \n",
    "# \"Ano_Nascimento\" ,\n",
    "# \"Sexo\" ,\n",
    "# \"Campus\" ,\n",
    "# \"Curso_Identificador\" ,\n",
    "# \"Curso\" ,\n",
    "# \"UF_Nascimento\" ,\n",
    "# \"Municipio_Nascimento\" ,\n",
    "# \"Admissao\" ,\n",
    "# \"Saida\" ,\n",
    "# \"Codigo_Situacao_Aluno\" ,\n",
    "# \"Situacao_Aluno\" ,\n",
    "# \"Situacao_Aluno_Agrupada\" ,\n",
    "# \"Modalidade_Inscrita\" ,\n",
    "# \"ENEM\" ,\n",
    "# \"Num_Reprovacoes\" ,\n",
    "# \"Raca\" ,\n",
    "# \"CRA\" ,\n",
    "# \"Area\" ,\n",
    "# \"Admissao_Ano\",\n",
    "# \"Admissao_Semestre\",\n",
    "# \"Saida_Ano\",\n",
    "# \"Saida_Semestre\"]"
   ]
  },
  {
   "cell_type": "markdown",
   "metadata": {},
   "source": [
    "analises possiveis:\n",
    "mulheres reprovam menos\n",
    "reprovação por campus\n",
    "enem vs reprovçoes\n",
    "cra reprovaçoes"
   ]
  },
  {
   "cell_type": "markdown",
   "metadata": {},
   "source": [
    "## Analise 1: Prever CRA \n",
    "Para essa analise teremos que identificar os principais fatores que influenciam o coeficiente de rendimento acumulado. Para isso levaremos em consideração somente a variaveis areas e não todos os cursos em busca de uma melhor eficiência computacional. "
   ]
  },
  {
   "cell_type": "markdown",
   "metadata": {},
   "source": [
    "## Filtragem do  dados"
   ]
  },
  {
   "cell_type": "code",
   "execution_count": null,
   "metadata": {},
   "outputs": [],
   "source": [
    "dataCRA = df.copy()"
   ]
  },
  {
   "cell_type": "markdown",
   "metadata": {},
   "source": [
    "### Criando variavel tempo de permanencia\n",
    "Para uma analise mais efetiva iremos criar a coluna `Anos_Cursados` que irá indicar o quantos anos o aluno precisou para se formar."
   ]
  },
  {
   "cell_type": "code",
   "execution_count": null,
   "metadata": {},
   "outputs": [],
   "source": [
    "dataCRA ['Anos_Cursados']= dataCRA['Saida_Ano'] - dataCRA['Admissao_Ano']"
   ]
  },
  {
   "cell_type": "markdown",
   "metadata": {},
   "source": [
    "### Limpando DataSet"
   ]
  },
  {
   "cell_type": "code",
   "execution_count": null,
   "metadata": {},
   "outputs": [],
   "source": [
    "print(dataCRA.size)\n",
    "dataCRA = dataCRA.dropna()\n",
    "dataCRA.size"
   ]
  },
  {
   "cell_type": "markdown",
   "metadata": {},
   "source": [
    "Sabemos que no Brasil o tempo mínimo para se formar em um curso de graduação no Brasil varia de acordo diretrizes do Ministério da Educação (MEC). Sendo o menor tempo possível o de  2 anos, que é definido pelo MEC para os cursos tecnólogo, logo consideraremos apenas esse tempo para cima para analise."
   ]
  },
  {
   "cell_type": "code",
   "execution_count": null,
   "metadata": {},
   "outputs": [],
   "source": [
    "dataCRA = dataCRA[dataCRA['Anos_Cursados'] > 1]\n",
    "print(dataCRA.size)"
   ]
  },
  {
   "cell_type": "markdown",
   "metadata": {},
   "source": [
    "### Selecionando atributos significativos\n",
    "\n",
    "Optamos por fazer uma limpeza considerando apenas as colunas relevantes, que não existe uma representação mais clara da mesma atravês de outras colunas ou que não limitamos a utilização anteriormente.\n",
    "Desconsiderando as colunas:\n",
    " - Identificador\n",
    " - Curso_Identificador\n",
    " - Curso\n",
    " - UF_Nascimento\n",
    " - Municipio_Nascimento\n",
    " - Admissao\n",
    " - Saida\n",
    " - Situacao_Aluno\n",
    " - Situacao_Aluno_Agrupada\n",
    " - Admissao_Ano\n",
    " - Admissao_Semestre\n",
    " - Saida_Ano\n",
    " - Saida_Semestre"
   ]
  },
  {
   "cell_type": "markdown",
   "metadata": {},
   "source": [
    "Feito essa filtragem dos dados para analise da relação das colunas relevantes."
   ]
  },
  {
   "cell_type": "code",
   "execution_count": null,
   "metadata": {},
   "outputs": [],
   "source": [
    "dataCRA = dataCRA[\n",
    "    [\"Ano_Nascimento\" ,\n",
    "    \"Sexo\" ,\n",
    "    \"Campus\" ,\n",
    "    \"Modalidade_Inscrita\" ,\n",
    "    \"ENEM\" ,\n",
    "    \"Num_Reprovacoes\" ,\n",
    "    \"Raca\" ,\n",
    "    \"CRA\" ,\n",
    "    \"Anos_Cursados\",\n",
    "    \"Codigo_Situacao_Aluno\",\n",
    "    \"Area\"]\n",
    "]\n",
    "\n",
    "dataCRA.head(3)"
   ]
  },
  {
   "cell_type": "markdown",
   "metadata": {},
   "source": [
    "#### Analise do comportamento das variaveis "
   ]
  },
  {
   "cell_type": "markdown",
   "metadata": {},
   "source": [
    "Para podermos visualizar o comportamento teremos que fazer uma conversão inicial somente a titulo de visualização"
   ]
  },
  {
   "cell_type": "code",
   "execution_count": null,
   "metadata": {},
   "outputs": [],
   "source": [
    "dfTeste = dataCRA.copy()\n",
    "\n",
    "colunas = dfTeste.select_dtypes(include=['object']).columns\n",
    "for col in colunas:\n",
    "    dfTeste[col] = dfTeste[col].astype('category')\n",
    "for col in colunas:\n",
    "    dfTeste[col] = dfTeste[col].cat.codes\n",
    "dfTeste.head(2)"
   ]
  },
  {
   "cell_type": "markdown",
   "metadata": {},
   "source": [
    "#### Conferindo se há alguma relação de forte dependencia dentre as variaveis"
   ]
  },
  {
   "cell_type": "code",
   "execution_count": null,
   "metadata": {},
   "outputs": [],
   "source": [
    "X = dfTeste.drop('CRA', axis=1).columns\n",
    "\n",
    "correlation = dfTeste[X].corr()\n",
    "correlation_percent = correlation * 100\n",
    "\n",
    "# Criar a máscara para a parte superior da matriz\n",
    "matrix = np.triu(correlation_percent)\n",
    "\n",
    "plt.figure(figsize=(15,8))\n",
    "sns.heatmap(correlation_percent, \n",
    "            xticklabels=correlation_percent.columns, \n",
    "            yticklabels=correlation_percent.columns, \n",
    "            annot=True, \n",
    "            fmt='.1f',  # Formatar os valores com 1 casa decimal\n",
    "            center=0, \n",
    "            cmap='coolwarm', \n",
    "            mask=matrix,\n",
    "            annot_kws={\"size\": 10})  # Ajustar o tamanho da anotação se necessário\n",
    "\n",
    "\n",
    "\n",
    "plt.title('Matriz de Correlação (%)')\n",
    "plt.show()\n"
   ]
  },
  {
   "cell_type": "markdown",
   "metadata": {},
   "source": [
    "Observando o mapa de calor conseguimos ver que não há uma porcentagem de correlação significativa, com o maximo chegando somente a 20,5% de correlação, logo não precisaremos fazer uma limpeza nesse sentido."
   ]
  },
  {
   "cell_type": "markdown",
   "metadata": {},
   "source": [
    "## Convertendo as variaveis categoricas em numericas"
   ]
  },
  {
   "cell_type": "code",
   "execution_count": null,
   "metadata": {},
   "outputs": [],
   "source": [
    "dataCRA = pd.get_dummies(dataCRA, columns=['Modalidade_Inscrita', 'Campus', 'Raca', 'Sexo',\"Codigo_Situacao_Aluno\", \"Area\"], drop_first=True, dtype=int)\n",
    "dataCRA.head(5)"
   ]
  },
  {
   "cell_type": "markdown",
   "metadata": {},
   "source": [
    "Função acima pega cada uma das colunas e converge cada possivel valor categorico em uma coluna de zeros e uns."
   ]
  },
  {
   "cell_type": "markdown",
   "metadata": {},
   "source": [
    "## Realizando a previsão com Random Florest"
   ]
  },
  {
   "cell_type": "code",
   "execution_count": null,
   "metadata": {},
   "outputs": [],
   "source": [
    "X = dataCRA.drop('CRA', axis=1)\n",
    "Y = dataCRA['CRA']\n",
    "X.columns"
   ]
  },
  {
   "cell_type": "code",
   "execution_count": null,
   "metadata": {},
   "outputs": [],
   "source": [
    "# from sklearn.model_selection import cross_val_score\n",
    "from sklearn.model_selection import train_test_split\n",
    "from sklearn.ensemble import RandomForestRegressor\n",
    "from sklearn.metrics import r2_score"
   ]
  },
  {
   "cell_type": "code",
   "execution_count": null,
   "metadata": {},
   "outputs": [],
   "source": [
    "X = dataCRA.drop('CRA', axis=1)\n",
    "Y = dataCRA['CRA']"
   ]
  },
  {
   "cell_type": "code",
   "execution_count": null,
   "metadata": {},
   "outputs": [],
   "source": [
    "X_train, X_test, Y_train, Y_test = train_test_split(\n",
    "        X,\n",
    "        Y,\n",
    "        test_size=0.3,\n",
    "        random_state=0\n",
    ")"
   ]
  },
  {
   "cell_type": "code",
   "execution_count": null,
   "metadata": {},
   "outputs": [],
   "source": [
    "# Criando o modelo de RandomForestRegressor\n",
    "rf = RandomForestRegressor(n_estimators=200, max_depth=10, random_state=42)\n",
    "\n",
    "# Treinando o modelo\n",
    "rf.fit(X_train, Y_train)\n",
    "\n",
    "# Predição usando o modelo treinado\n",
    "rf_Y_predicted = rf.predict(X_test)"
   ]
  },
  {
   "cell_type": "markdown",
   "metadata": {},
   "source": [
    "### Observando as previsões feitas"
   ]
  },
  {
   "cell_type": "code",
   "execution_count": null,
   "metadata": {},
   "outputs": [],
   "source": [
    "df_previsoes = pd.DataFrame(X_test)\n",
    "df_previsoes['CRA_Real'] = Y_test\n",
    "df_previsoes['CRA_Previsto'] = rf_Y_predicted\n",
    "df_previsoes['Diferenca_CRA'] = abs(df_previsoes['CRA_Real'] - df_previsoes['CRA_Previsto'])"
   ]
  },
  {
   "cell_type": "code",
   "execution_count": null,
   "metadata": {},
   "outputs": [],
   "source": [
    "df_previsoes"
   ]
  },
  {
   "cell_type": "markdown",
   "metadata": {},
   "source": [
    "### Avaliando o desempenho"
   ]
  },
  {
   "cell_type": "code",
   "execution_count": null,
   "metadata": {},
   "outputs": [],
   "source": [
    "# Avaliando o modelo\n",
    "r2 = r2_score(Y_test, rf_Y_predicted)\n",
    "print(f\"R-squared: {r2} or {(r2*100)}%\")"
   ]
  },
  {
   "cell_type": "markdown",
   "metadata": {},
   "source": [
    "### Analise desempenho do modelo"
   ]
  },
  {
   "cell_type": "markdown",
   "metadata": {},
   "source": [
    "Um valor de R-quadrado de 0,8205 significa que aproximadamente 82.05% do CRA é explicada pelo modelo de regressão. Esse valor indica que o modelo tem uma boa capacidade de previsão e ajusta bem aos dados."
   ]
  },
  {
   "cell_type": "markdown",
   "metadata": {},
   "source": [
    "### Analisando quais variaveis significativas"
   ]
  },
  {
   "cell_type": "code",
   "execution_count": null,
   "metadata": {},
   "outputs": [],
   "source": [
    "importances = rf.feature_importances_\n",
    "features = X.columns\n",
    "importances_df = pd.DataFrame({'Feature': features, 'Importance': importances}).sort_values(by='Importance', ascending=False)\n",
    "print(importances_df)"
   ]
  },
  {
   "cell_type": "markdown",
   "metadata": {},
   "source": [
    "Para melhorar sua eficiência e generalização iremos reduzir as variaveis para somente as quinze mais significativas."
   ]
  },
  {
   "cell_type": "code",
   "execution_count": null,
   "metadata": {},
   "outputs": [],
   "source": [
    "# Reduzindo para as 15 variaveis mais importantes\n",
    "top_features = [\n",
    "    'Num_Reprovacoes',\n",
    "    'Codigo_Situacao_Aluno_C',\n",
    "    'Anos_Cursados',\n",
    "    'ENEM',\n",
    "    'Ano_Nascimento',\n",
    "    'Codigo_Situacao_Aluno_D',\n",
    "    'Codigo_Situacao_Aluno_M',\n",
    "    'Area_CIENCIAS EXATAS E DA TERRA',\n",
    "    'Area_CIENCIAS AGRARIAS',\n",
    "    'Sexo_M',\n",
    "    'Raca_Informação não disponível',\n",
    "    'Campus_CAV',\n",
    "    'Modalidade_Inscrita_9.0',\n",
    "    'Raca_Pardo(a)',\n",
    "    'Modalidade_Inscrita_5.0'\n",
    "]\n"
   ]
  },
  {
   "cell_type": "code",
   "execution_count": null,
   "metadata": {},
   "outputs": [],
   "source": [
    "X_top_features = X[top_features]\n",
    "\n",
    "# Dividindo novamente os dados\n",
    "X_train_top, X_test_top, Y_train_top, Y_test_top = train_test_split(X_top_features, Y, test_size=0.2, random_state=42)\n",
    "\n",
    "# Criando e treinando o modelo\n",
    "rf_top = RandomForestRegressor(n_estimators=100, random_state=42)\n",
    "rf_top.fit(X_train_top, Y_train_top)\n",
    "\n",
    "# Predição usando o modelo treinado\n",
    "rf_Y_predicted_top = rf_top.predict(X_test_top)"
   ]
  },
  {
   "cell_type": "markdown",
   "metadata": {},
   "source": [
    "### Observando as previsões feitas"
   ]
  },
  {
   "cell_type": "code",
   "execution_count": null,
   "metadata": {},
   "outputs": [],
   "source": [
    "df_previsoes = pd.DataFrame(X_test_top)\n",
    "df_previsoes['CRA_Real'] = Y_test_top\n",
    "df_previsoes['CRA_Previsto'] = rf_Y_predicted_top\n",
    "df_previsoes['Diferenca_CRA'] = abs(df_previsoes['CRA_Real'] - df_previsoes['CRA_Previsto'])"
   ]
  },
  {
   "cell_type": "code",
   "execution_count": null,
   "metadata": {},
   "outputs": [],
   "source": [
    "df_previsoes"
   ]
  },
  {
   "cell_type": "code",
   "execution_count": null,
   "metadata": {},
   "outputs": [],
   "source": [
    "# Avaliação do modelo\n",
    "r2_top = r2_score(Y_test_top, rf_Y_predicted_top)\n",
    "\n",
    "print(f\"R-squared: {r2_top} ou {(r2_top * 100):.2f}%\")"
   ]
  },
  {
   "cell_type": "markdown",
   "metadata": {},
   "source": [
    "### Analise desempenho do modelo"
   ]
  },
  {
   "cell_type": "markdown",
   "metadata": {},
   "source": [
    "O algoritmo apresentou um tempo de execução reduzido de 10,4 segundos para 5,6 segundos, o que representa uma queda de 37,5% no tempo de processamento. Essa melhoria na eficiência foi acompanhada por uma pequena perda de desempenho, com o R-squared diminuindo apenas 1,68%. Esse resultado sugere que, ao selecionar as variáveis mais relevantes, o modelo se tornou significativamente mais rápido sem comprometer substancialmente sua capacidade de explicar a variabilidade dos dados. Em resumo, a otimização resultou em um modelo mais eficiente e ágil, mantendo uma performance bastante próxima da original e com uma maior generalização."
   ]
  }
 ],
 "metadata": {
  "kernelspec": {
   "display_name": "Python 3",
   "language": "python",
   "name": "python3"
  },
  "language_info": {
   "codemirror_mode": {
    "name": "ipython",
    "version": 3
   },
   "file_extension": ".py",
   "mimetype": "text/x-python",
   "name": "python",
   "nbconvert_exporter": "python",
   "pygments_lexer": "ipython3",
   "version": "3.12.3"
  }
 },
 "nbformat": 4,
 "nbformat_minor": 2
}
