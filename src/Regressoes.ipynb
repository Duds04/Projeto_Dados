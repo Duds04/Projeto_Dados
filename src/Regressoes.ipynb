{
 "cells": [
  {
   "cell_type": "markdown",
   "metadata": {},
   "source": [
    "# Trabalho prático de dados, parte 2\n",
    "\n",
    "Nesta etapa do trabalho prático, o grupo precisava aplicar algum algoritmo de aprendizagem\n",
    "(regras de associação, regressão, aprendizado supervisionado ou aprendizado não-supervisionado)\n",
    "para classificar ou agrupar os dados e, assim, tentar prever algum acontecimento desconhecido, com\n",
    "foco em evasão, nota do ENEM e CRA."
   ]
  },
  {
   "cell_type": "markdown",
   "metadata": {},
   "source": [
    "## Imports básicos"
   ]
  },
  {
   "cell_type": "code",
   "execution_count": 134,
   "metadata": {},
   "outputs": [],
   "source": [
    "import pandas as pd\n",
    "import numpy as np\n",
    "import matplotlib.pyplot as plt\n",
    "import seaborn as sns\n",
    "import scipy\n",
    "import sklearn\n",
    "from sklearn.linear_model import LinearRegression\n",
    "import statsmodels.api as sm\n"
   ]
  },
  {
   "cell_type": "markdown",
   "metadata": {},
   "source": [
    "## Lendo dataset"
   ]
  },
  {
   "cell_type": "code",
   "execution_count": 135,
   "metadata": {},
   "outputs": [
    {
     "name": "stdout",
     "output_type": "stream",
     "text": [
      "<class 'pandas.core.frame.DataFrame'>\n",
      "RangeIndex: 74026 entries, 0 to 74025\n",
      "Data columns (total 23 columns):\n",
      " #   Column                   Non-Null Count  Dtype  \n",
      "---  ------                   --------------  -----  \n",
      " 0   Identificador            74026 non-null  int64  \n",
      " 1   Ano_Nascimento           73949 non-null  float64\n",
      " 2   Sexo                     73986 non-null  object \n",
      " 3   Campus                   74026 non-null  object \n",
      " 4   Curso_Identificador      74026 non-null  int64  \n",
      " 5   Curso                    74026 non-null  object \n",
      " 6   UF_Nascimento            73965 non-null  object \n",
      " 7   Municipio_Nascimento     74026 non-null  object \n",
      " 8   Admissao                 74026 non-null  object \n",
      " 9   Saida                    74026 non-null  object \n",
      " 10  Codigo_Situacao_Aluno    74026 non-null  object \n",
      " 11  Situacao_Aluno           74026 non-null  object \n",
      " 12  Situacao_Aluno_Agrupada  74026 non-null  object \n",
      " 13  Modalidade_Inscrita      68753 non-null  float64\n",
      " 14  ENEM                     39183 non-null  float64\n",
      " 15  Num_Reprovacoes          74026 non-null  int64  \n",
      " 16  Raca                     74026 non-null  object \n",
      " 17  CRA                      74016 non-null  float64\n",
      " 18  Area                     74026 non-null  object \n",
      " 19  Admissao_Ano             74026 non-null  int64  \n",
      " 20  Admissao_Semestre        74026 non-null  int64  \n",
      " 21  Saida_Ano                74026 non-null  int64  \n",
      " 22  Saida_Semestre           74026 non-null  int64  \n",
      "dtypes: float64(4), int64(7), object(12)\n",
      "memory usage: 13.0+ MB\n"
     ]
    }
   ],
   "source": [
    "df = pd.read_csv(\"../Datasets/dadosFiltrados.csv\")\n",
    "df.info()"
   ]
  },
  {
   "cell_type": "markdown",
   "metadata": {},
   "source": [
    "### Selecionando atributos significativos\n",
    "\n",
    "Vamos primeiramente realizar uma plotagem dos atributos do datasets para ver se conseguimos encontrar alguma correlação pelos gráficos. Para isso, foram selecionadas algumas colunas que possivelmente apresentarão resultados significativos"
   ]
  },
  {
   "cell_type": "code",
   "execution_count": null,
   "metadata": {},
   "outputs": [],
   "source": [
    "dfPlot = df[[\n",
    "    \"Ano_Nascimento\" ,\n",
    "    \"Sexo\" ,\n",
    "    \"Campus\" ,\n",
    "    \"Curso_Identificador\" ,\n",
    "    \"UF_Nascimento\" ,\n",
    "    \"Codigo_Situacao_Aluno\" ,\n",
    "    \"Modalidade_Inscrita\" ,\n",
    "    \"ENEM\" ,\n",
    "    \"Num_Reprovacoes\" ,\n",
    "    \"Raca\" ,\n",
    "    \"CRA\" ,\n",
    "    \"Area\" ,\n",
    "    \"Admissao_Ano\",\n",
    "    \"Saida_Ano\",\n",
    "]]\n",
    "# Colunas não usadas\n",
    "# [\"Identificador\" , \n",
    "# \"Curso\" ,\n",
    "# \"UF_Nascimento\" ,\n",
    "# \"Admissao\" ,\n",
    "# \"Saida\" ,\n",
    "# \"Situacao_Aluno\" ,\n",
    "# \"Situacao_Aluno_Agrupada\" ,\n",
    "# \"Admissao_Semestre\",\n",
    "# \"Saida_Semestre\"]\n",
    "\n",
    "# Vamos converter os atributos desse dataset que são categoricos para variaveis discretas\n",
    "colunas = dfPlot.select_dtypes(include=['object']).columns\n",
    "for col in colunas:\n",
    "    dfPlot[col] = dfPlot[col].astype('category')\n",
    "for col in colunas:\n",
    "    dfPlot[col] = dfPlot[col].cat.codes\n",
    "dfPlot = dfPlot[dfPlot['Saida_Ano'] != 0]\n",
    "dfPlot\n"
   ]
  },
  {
   "cell_type": "code",
   "execution_count": null,
   "metadata": {},
   "outputs": [],
   "source": [
    "plt.figure(figsize=(17, 17))\n",
    "sns.pairplot(dfPlot, corner=True)\n",
    "plt.savefig('Imagens/pairplot.png', format='png', dpi=300)"
   ]
  },
  {
   "cell_type": "markdown",
   "metadata": {},
   "source": [
    "Para uma visualização mais detalhada, é recomendável abrir a imagem separadamente em [Imagens/pairplot.png](Imagens/pairplot.png)"
   ]
  },
  {
   "cell_type": "code",
   "execution_count": null,
   "metadata": {},
   "outputs": [],
   "source": [
    "# [\"Identificador\" , \n",
    "# \"Ano_Nascimento\" ,\n",
    "# \"Sexo\" ,\n",
    "# \"Campus\" ,\n",
    "# \"Curso_Identificador\" ,\n",
    "# \"Curso\" ,\n",
    "# \"UF_Nascimento\" ,\n",
    "# \"Municipio_Nascimento\" ,\n",
    "# \"Admissao\" ,\n",
    "# \"Saida\" ,\n",
    "# \"Codigo_Situacao_Aluno\" ,\n",
    "# \"Situacao_Aluno\" ,\n",
    "# \"Situacao_Aluno_Agrupada\" ,\n",
    "# \"Modalidade_Inscrita\" ,\n",
    "# \"ENEM\" ,\n",
    "# \"Num_Reprovacoes\" ,\n",
    "# \"Raca\" ,\n",
    "# \"CRA\" ,\n",
    "# \"Area\" ,\n",
    "# \"Admissao_Ano\",\n",
    "# \"Admissao_Semestre\",\n",
    "# \"Saida_Ano\",\n",
    "# \"Saida_Semestre\"]"
   ]
  },
  {
   "cell_type": "markdown",
   "metadata": {},
   "source": [
    "analises possiveis:\n",
    "mulheres reprovam menos\n",
    "reprovação por campus\n",
    "enem vs reprovçoes\n",
    "cra reprovaçoes"
   ]
  },
  {
   "cell_type": "markdown",
   "metadata": {},
   "source": [
    "## Analise 1: Prever CRA \n",
    "Para essa analise teremos que identificar os principais fatores que influenciam o coeficiente de rendimento acumulado. Para isso levaremos em consideração somente a variaveis areas e não todos os cursos em busca de uma melhor eficiência computacional. "
   ]
  },
  {
   "cell_type": "markdown",
   "metadata": {},
   "source": [
    "## Filtragem do  dados"
   ]
  },
  {
   "cell_type": "code",
   "execution_count": 241,
   "metadata": {},
   "outputs": [],
   "source": [
    "dataCRA = df.copy()"
   ]
  },
  {
   "cell_type": "markdown",
   "metadata": {},
   "source": [
    "### Criando variavel tempo de permanencia\n",
    "Para uma analise mais efetiva iremos criar a coluna `Anos_Cursados` que irá indicar o quantos anos o aluno precisou para se formar."
   ]
  },
  {
   "cell_type": "code",
   "execution_count": 242,
   "metadata": {},
   "outputs": [],
   "source": [
    "dataCRA ['Anos_Cursados']= dataCRA['Saida_Ano'] - dataCRA['Admissao_Ano']"
   ]
  },
  {
   "cell_type": "markdown",
   "metadata": {},
   "source": [
    "### Limpando DataSet"
   ]
  },
  {
   "cell_type": "code",
   "execution_count": 243,
   "metadata": {},
   "outputs": [
    {
     "name": "stdout",
     "output_type": "stream",
     "text": [
      "1776624\n"
     ]
    },
    {
     "data": {
      "text/plain": [
       "905256"
      ]
     },
     "execution_count": 243,
     "metadata": {},
     "output_type": "execute_result"
    }
   ],
   "source": [
    "print(dataCRA.size)\n",
    "dataCRA = dataCRA.dropna()\n",
    "dataCRA.size"
   ]
  },
  {
   "cell_type": "markdown",
   "metadata": {},
   "source": [
    "Sabemos que no Brasil o tempo mínimo para se formar em um curso de graduação no Brasil varia de acordo diretrizes do Ministério da Educação (MEC). Sendo o menor tempo possível o de  2 anos, que é definido pelo MEC para os cursos tecnólogo, logo consideraremos apenas esse tempo para cima para analise."
   ]
  },
  {
   "cell_type": "code",
   "execution_count": 244,
   "metadata": {},
   "outputs": [
    {
     "name": "stdout",
     "output_type": "stream",
     "text": [
      "307560\n"
     ]
    }
   ],
   "source": [
    "dataCRA = dataCRA[dataCRA['Anos_Cursados'] > 1]\n",
    "print(dataCRA.size)"
   ]
  },
  {
   "cell_type": "markdown",
   "metadata": {},
   "source": [
    "### Selecionando atributos significativos\n",
    "\n",
    "Optamos por fazer uma limpeza considerando apenas as colunas relevantes, que não existe uma representação mais clara da mesma atravês de outras colunas ou que não limitamos a utilização anteriormente.\n",
    "Desconsiderando as colunas:\n",
    " - Identificador\n",
    " - Curso_Identificador\n",
    " - Curso\n",
    " - UF_Nascimento\n",
    " - Municipio_Nascimento\n",
    " - Admissao\n",
    " - Saida\n",
    " - Situacao_Aluno\n",
    " - Situacao_Aluno_Agrupada\n",
    " - Admissao_Ano\n",
    " - Admissao_Semestre\n",
    " - Saida_Ano\n",
    " - Saida_Semestre"
   ]
  },
  {
   "cell_type": "markdown",
   "metadata": {},
   "source": [
    "Feito essa filtragem dos dados para analise da relação das colunas relevantes."
   ]
  },
  {
   "cell_type": "code",
   "execution_count": 245,
   "metadata": {},
   "outputs": [
    {
     "data": {
      "text/html": [
       "<div>\n",
       "<style scoped>\n",
       "    .dataframe tbody tr th:only-of-type {\n",
       "        vertical-align: middle;\n",
       "    }\n",
       "\n",
       "    .dataframe tbody tr th {\n",
       "        vertical-align: top;\n",
       "    }\n",
       "\n",
       "    .dataframe thead th {\n",
       "        text-align: right;\n",
       "    }\n",
       "</style>\n",
       "<table border=\"1\" class=\"dataframe\">\n",
       "  <thead>\n",
       "    <tr style=\"text-align: right;\">\n",
       "      <th></th>\n",
       "      <th>Ano_Nascimento</th>\n",
       "      <th>Sexo</th>\n",
       "      <th>Campus</th>\n",
       "      <th>Modalidade_Inscrita</th>\n",
       "      <th>ENEM</th>\n",
       "      <th>Num_Reprovacoes</th>\n",
       "      <th>Raca</th>\n",
       "      <th>CRA</th>\n",
       "      <th>Anos_Cursados</th>\n",
       "      <th>Codigo_Situacao_Aluno</th>\n",
       "      <th>Area</th>\n",
       "    </tr>\n",
       "  </thead>\n",
       "  <tbody>\n",
       "    <tr>\n",
       "      <th>24137</th>\n",
       "      <td>1992.0</td>\n",
       "      <td>M</td>\n",
       "      <td>CAV</td>\n",
       "      <td>0.0</td>\n",
       "      <td>628.06</td>\n",
       "      <td>2</td>\n",
       "      <td>Branco(a)</td>\n",
       "      <td>83.0</td>\n",
       "      <td>5</td>\n",
       "      <td>C</td>\n",
       "      <td>CIENCIAS EXATAS E DA TERRA</td>\n",
       "    </tr>\n",
       "    <tr>\n",
       "      <th>24755</th>\n",
       "      <td>1990.0</td>\n",
       "      <td>M</td>\n",
       "      <td>CAV</td>\n",
       "      <td>0.0</td>\n",
       "      <td>603.10</td>\n",
       "      <td>9</td>\n",
       "      <td>Branco(a)</td>\n",
       "      <td>49.4</td>\n",
       "      <td>2</td>\n",
       "      <td>A</td>\n",
       "      <td>CIENCIAS EXATAS E DA TERRA</td>\n",
       "    </tr>\n",
       "    <tr>\n",
       "      <th>24810</th>\n",
       "      <td>1990.0</td>\n",
       "      <td>M</td>\n",
       "      <td>CAV</td>\n",
       "      <td>0.0</td>\n",
       "      <td>703.62</td>\n",
       "      <td>25</td>\n",
       "      <td>Pardo(a)</td>\n",
       "      <td>58.9</td>\n",
       "      <td>6</td>\n",
       "      <td>M</td>\n",
       "      <td>CIENCIAS EXATAS E DA TERRA</td>\n",
       "    </tr>\n",
       "  </tbody>\n",
       "</table>\n",
       "</div>"
      ],
      "text/plain": [
       "       Ano_Nascimento Sexo Campus  Modalidade_Inscrita    ENEM  \\\n",
       "24137          1992.0    M    CAV                  0.0  628.06   \n",
       "24755          1990.0    M    CAV                  0.0  603.10   \n",
       "24810          1990.0    M    CAV                  0.0  703.62   \n",
       "\n",
       "       Num_Reprovacoes       Raca   CRA  Anos_Cursados Codigo_Situacao_Aluno  \\\n",
       "24137                2  Branco(a)  83.0              5                     C   \n",
       "24755                9  Branco(a)  49.4              2                     A   \n",
       "24810               25   Pardo(a)  58.9              6                     M   \n",
       "\n",
       "                             Area  \n",
       "24137  CIENCIAS EXATAS E DA TERRA  \n",
       "24755  CIENCIAS EXATAS E DA TERRA  \n",
       "24810  CIENCIAS EXATAS E DA TERRA  "
      ]
     },
     "execution_count": 245,
     "metadata": {},
     "output_type": "execute_result"
    }
   ],
   "source": [
    "dataCRA = dataCRA[\n",
    "    [\"Ano_Nascimento\" ,\n",
    "    \"Sexo\" ,\n",
    "    \"Campus\" ,\n",
    "    \"Modalidade_Inscrita\" ,\n",
    "    \"ENEM\" ,\n",
    "    \"Num_Reprovacoes\" ,\n",
    "    \"Raca\" ,\n",
    "    \"CRA\" ,\n",
    "    \"Anos_Cursados\",\n",
    "    \"Codigo_Situacao_Aluno\",\n",
    "    \"Area\"]\n",
    "]\n",
    "\n",
    "dataCRA.head(3)"
   ]
  },
  {
   "cell_type": "markdown",
   "metadata": {},
   "source": [
    "#### Analise do comportamento das variaveis "
   ]
  },
  {
   "cell_type": "markdown",
   "metadata": {},
   "source": [
    "Para podermos visualizar o comportamento teremos que fazer uma conversão inicial somente a titulo de visualização"
   ]
  },
  {
   "cell_type": "code",
   "execution_count": 246,
   "metadata": {},
   "outputs": [
    {
     "data": {
      "text/html": [
       "<div>\n",
       "<style scoped>\n",
       "    .dataframe tbody tr th:only-of-type {\n",
       "        vertical-align: middle;\n",
       "    }\n",
       "\n",
       "    .dataframe tbody tr th {\n",
       "        vertical-align: top;\n",
       "    }\n",
       "\n",
       "    .dataframe thead th {\n",
       "        text-align: right;\n",
       "    }\n",
       "</style>\n",
       "<table border=\"1\" class=\"dataframe\">\n",
       "  <thead>\n",
       "    <tr style=\"text-align: right;\">\n",
       "      <th></th>\n",
       "      <th>Ano_Nascimento</th>\n",
       "      <th>Sexo</th>\n",
       "      <th>Campus</th>\n",
       "      <th>Modalidade_Inscrita</th>\n",
       "      <th>ENEM</th>\n",
       "      <th>Num_Reprovacoes</th>\n",
       "      <th>Raca</th>\n",
       "      <th>CRA</th>\n",
       "      <th>Anos_Cursados</th>\n",
       "      <th>Codigo_Situacao_Aluno</th>\n",
       "      <th>Area</th>\n",
       "    </tr>\n",
       "  </thead>\n",
       "  <tbody>\n",
       "    <tr>\n",
       "      <th>24137</th>\n",
       "      <td>1992.0</td>\n",
       "      <td>1</td>\n",
       "      <td>1</td>\n",
       "      <td>0.0</td>\n",
       "      <td>628.06</td>\n",
       "      <td>2</td>\n",
       "      <td>1</td>\n",
       "      <td>83.0</td>\n",
       "      <td>5</td>\n",
       "      <td>2</td>\n",
       "      <td>4</td>\n",
       "    </tr>\n",
       "    <tr>\n",
       "      <th>24755</th>\n",
       "      <td>1990.0</td>\n",
       "      <td>1</td>\n",
       "      <td>1</td>\n",
       "      <td>0.0</td>\n",
       "      <td>603.10</td>\n",
       "      <td>9</td>\n",
       "      <td>1</td>\n",
       "      <td>49.4</td>\n",
       "      <td>2</td>\n",
       "      <td>0</td>\n",
       "      <td>4</td>\n",
       "    </tr>\n",
       "  </tbody>\n",
       "</table>\n",
       "</div>"
      ],
      "text/plain": [
       "       Ano_Nascimento  Sexo  Campus  Modalidade_Inscrita    ENEM  \\\n",
       "24137          1992.0     1       1                  0.0  628.06   \n",
       "24755          1990.0     1       1                  0.0  603.10   \n",
       "\n",
       "       Num_Reprovacoes  Raca   CRA  Anos_Cursados  Codigo_Situacao_Aluno  Area  \n",
       "24137                2     1  83.0              5                      2     4  \n",
       "24755                9     1  49.4              2                      0     4  "
      ]
     },
     "execution_count": 246,
     "metadata": {},
     "output_type": "execute_result"
    }
   ],
   "source": [
    "dfTeste = dataCRA.copy()\n",
    "\n",
    "colunas = dfTeste.select_dtypes(include=['object']).columns\n",
    "for col in colunas:\n",
    "    dfTeste[col] = dfTeste[col].astype('category')\n",
    "for col in colunas:\n",
    "    dfTeste[col] = dfTeste[col].cat.codes\n",
    "dfTeste.head(2)"
   ]
  },
  {
   "cell_type": "markdown",
   "metadata": {},
   "source": [
    "#### Conferindo se há alguma relação de forte dependencia dentre as variaveis"
   ]
  },
  {
   "cell_type": "code",
   "execution_count": 247,
   "metadata": {},
   "outputs": [
    {
     "data": {
      "image/png": "[encoded data removed]",
      "text/plain": [
       "<Figure size 1500x800 with 2 Axes>"
      ]
     },
     "metadata": {},
     "output_type": "display_data"
    }
   ],
   "source": [
    "X = dfTeste.drop('CRA', axis=1).columns\n",
    "\n",
    "correlation = dfTeste[X].corr()\n",
    "correlation_percent = correlation * 100\n",
    "\n",
    "# Criar a máscara para a parte superior da matriz\n",
    "matrix = np.triu(correlation_percent)\n",
    "\n",
    "plt.figure(figsize=(15,8))\n",
    "sns.heatmap(correlation_percent, \n",
    "            xticklabels=correlation_percent.columns, \n",
    "            yticklabels=correlation_percent.columns, \n",
    "            annot=True, \n",
    "            fmt='.1f',  # Formatar os valores com 1 casa decimal\n",
    "            center=0, \n",
    "            cmap='coolwarm', \n",
    "            mask=matrix,\n",
    "            annot_kws={\"size\": 10})  # Ajustar o tamanho da anotação se necessário\n",
    "\n",
    "\n",
    "\n",
    "plt.title('Matriz de Correlação (%)')\n",
    "plt.show()\n"
   ]
  },
  {
   "cell_type": "markdown",
   "metadata": {},
   "source": [
    "Observando o mapa de calor conseguimos ver que não há uma porcentagem de correlação significativa, com o maximo chegando somente a 20,5% de correlação, logo não precisaremos fazer uma limpeza nesse sentido."
   ]
  },
  {
   "cell_type": "markdown",
   "metadata": {},
   "source": [
    "## Convertendo as variaveis categoricas em numericas"
   ]
  },
  {
   "cell_type": "code",
   "execution_count": 248,
   "metadata": {},
   "outputs": [
    {
     "data": {
      "text/html": [
       "<div>\n",
       "<style scoped>\n",
       "    .dataframe tbody tr th:only-of-type {\n",
       "        vertical-align: middle;\n",
       "    }\n",
       "\n",
       "    .dataframe tbody tr th {\n",
       "        vertical-align: top;\n",
       "    }\n",
       "\n",
       "    .dataframe thead th {\n",
       "        text-align: right;\n",
       "    }\n",
       "</style>\n",
       "<table border=\"1\" class=\"dataframe\">\n",
       "  <thead>\n",
       "    <tr style=\"text-align: right;\">\n",
       "      <th></th>\n",
       "      <th>Ano_Nascimento</th>\n",
       "      <th>ENEM</th>\n",
       "      <th>Num_Reprovacoes</th>\n",
       "      <th>CRA</th>\n",
       "      <th>Anos_Cursados</th>\n",
       "      <th>Modalidade_Inscrita_1.0</th>\n",
       "      <th>Modalidade_Inscrita_2.0</th>\n",
       "      <th>Modalidade_Inscrita_3.0</th>\n",
       "      <th>Modalidade_Inscrita_4.0</th>\n",
       "      <th>Modalidade_Inscrita_5.0</th>\n",
       "      <th>...</th>\n",
       "      <th>Area_CIENCIAS AGRARIAS</th>\n",
       "      <th>Area_CIENCIAS DA SAUDE</th>\n",
       "      <th>Area_CIENCIAS ECONOMICAS</th>\n",
       "      <th>Area_CIENCIAS EXATAS E DA TERRA</th>\n",
       "      <th>Area_CIENCIAS HUMANAS</th>\n",
       "      <th>Area_CIENCIAS SOCIAIS APLICADAS</th>\n",
       "      <th>Area_EDUCACAO</th>\n",
       "      <th>Area_ENGENHARIA</th>\n",
       "      <th>Area_INTERDISCIPLINARES</th>\n",
       "      <th>Area_LINGUISTICA LETRAS E ARTES</th>\n",
       "    </tr>\n",
       "  </thead>\n",
       "  <tbody>\n",
       "    <tr>\n",
       "      <th>24137</th>\n",
       "      <td>1992.0</td>\n",
       "      <td>628.06</td>\n",
       "      <td>2</td>\n",
       "      <td>83.0</td>\n",
       "      <td>5</td>\n",
       "      <td>0</td>\n",
       "      <td>0</td>\n",
       "      <td>0</td>\n",
       "      <td>0</td>\n",
       "      <td>0</td>\n",
       "      <td>...</td>\n",
       "      <td>0</td>\n",
       "      <td>0</td>\n",
       "      <td>0</td>\n",
       "      <td>1</td>\n",
       "      <td>0</td>\n",
       "      <td>0</td>\n",
       "      <td>0</td>\n",
       "      <td>0</td>\n",
       "      <td>0</td>\n",
       "      <td>0</td>\n",
       "    </tr>\n",
       "    <tr>\n",
       "      <th>24755</th>\n",
       "      <td>1990.0</td>\n",
       "      <td>603.10</td>\n",
       "      <td>9</td>\n",
       "      <td>49.4</td>\n",
       "      <td>2</td>\n",
       "      <td>0</td>\n",
       "      <td>0</td>\n",
       "      <td>0</td>\n",
       "      <td>0</td>\n",
       "      <td>0</td>\n",
       "      <td>...</td>\n",
       "      <td>0</td>\n",
       "      <td>0</td>\n",
       "      <td>0</td>\n",
       "      <td>1</td>\n",
       "      <td>0</td>\n",
       "      <td>0</td>\n",
       "      <td>0</td>\n",
       "      <td>0</td>\n",
       "      <td>0</td>\n",
       "      <td>0</td>\n",
       "    </tr>\n",
       "    <tr>\n",
       "      <th>24810</th>\n",
       "      <td>1990.0</td>\n",
       "      <td>703.62</td>\n",
       "      <td>25</td>\n",
       "      <td>58.9</td>\n",
       "      <td>6</td>\n",
       "      <td>0</td>\n",
       "      <td>0</td>\n",
       "      <td>0</td>\n",
       "      <td>0</td>\n",
       "      <td>0</td>\n",
       "      <td>...</td>\n",
       "      <td>0</td>\n",
       "      <td>0</td>\n",
       "      <td>0</td>\n",
       "      <td>1</td>\n",
       "      <td>0</td>\n",
       "      <td>0</td>\n",
       "      <td>0</td>\n",
       "      <td>0</td>\n",
       "      <td>0</td>\n",
       "      <td>0</td>\n",
       "    </tr>\n",
       "    <tr>\n",
       "      <th>24812</th>\n",
       "      <td>1992.0</td>\n",
       "      <td>622.88</td>\n",
       "      <td>8</td>\n",
       "      <td>39.4</td>\n",
       "      <td>2</td>\n",
       "      <td>0</td>\n",
       "      <td>0</td>\n",
       "      <td>0</td>\n",
       "      <td>0</td>\n",
       "      <td>0</td>\n",
       "      <td>...</td>\n",
       "      <td>0</td>\n",
       "      <td>0</td>\n",
       "      <td>0</td>\n",
       "      <td>1</td>\n",
       "      <td>0</td>\n",
       "      <td>0</td>\n",
       "      <td>0</td>\n",
       "      <td>0</td>\n",
       "      <td>0</td>\n",
       "      <td>0</td>\n",
       "    </tr>\n",
       "    <tr>\n",
       "      <th>24987</th>\n",
       "      <td>1991.0</td>\n",
       "      <td>690.88</td>\n",
       "      <td>9</td>\n",
       "      <td>66.5</td>\n",
       "      <td>4</td>\n",
       "      <td>0</td>\n",
       "      <td>0</td>\n",
       "      <td>0</td>\n",
       "      <td>0</td>\n",
       "      <td>0</td>\n",
       "      <td>...</td>\n",
       "      <td>0</td>\n",
       "      <td>0</td>\n",
       "      <td>0</td>\n",
       "      <td>1</td>\n",
       "      <td>0</td>\n",
       "      <td>0</td>\n",
       "      <td>0</td>\n",
       "      <td>0</td>\n",
       "      <td>0</td>\n",
       "      <td>0</td>\n",
       "    </tr>\n",
       "  </tbody>\n",
       "</table>\n",
       "<p>5 rows × 44 columns</p>\n",
       "</div>"
      ],
      "text/plain": [
       "       Ano_Nascimento    ENEM  Num_Reprovacoes   CRA  Anos_Cursados  \\\n",
       "24137          1992.0  628.06                2  83.0              5   \n",
       "24755          1990.0  603.10                9  49.4              2   \n",
       "24810          1990.0  703.62               25  58.9              6   \n",
       "24812          1992.0  622.88                8  39.4              2   \n",
       "24987          1991.0  690.88                9  66.5              4   \n",
       "\n",
       "       Modalidade_Inscrita_1.0  Modalidade_Inscrita_2.0  \\\n",
       "24137                        0                        0   \n",
       "24755                        0                        0   \n",
       "24810                        0                        0   \n",
       "24812                        0                        0   \n",
       "24987                        0                        0   \n",
       "\n",
       "       Modalidade_Inscrita_3.0  Modalidade_Inscrita_4.0  \\\n",
       "24137                        0                        0   \n",
       "24755                        0                        0   \n",
       "24810                        0                        0   \n",
       "24812                        0                        0   \n",
       "24987                        0                        0   \n",
       "\n",
       "       Modalidade_Inscrita_5.0  ...  Area_CIENCIAS AGRARIAS  \\\n",
       "24137                        0  ...                       0   \n",
       "24755                        0  ...                       0   \n",
       "24810                        0  ...                       0   \n",
       "24812                        0  ...                       0   \n",
       "24987                        0  ...                       0   \n",
       "\n",
       "       Area_CIENCIAS DA SAUDE  Area_CIENCIAS ECONOMICAS  \\\n",
       "24137                       0                         0   \n",
       "24755                       0                         0   \n",
       "24810                       0                         0   \n",
       "24812                       0                         0   \n",
       "24987                       0                         0   \n",
       "\n",
       "       Area_CIENCIAS EXATAS E DA TERRA  Area_CIENCIAS HUMANAS  \\\n",
       "24137                                1                      0   \n",
       "24755                                1                      0   \n",
       "24810                                1                      0   \n",
       "24812                                1                      0   \n",
       "24987                                1                      0   \n",
       "\n",
       "       Area_CIENCIAS SOCIAIS APLICADAS  Area_EDUCACAO  Area_ENGENHARIA  \\\n",
       "24137                                0              0                0   \n",
       "24755                                0              0                0   \n",
       "24810                                0              0                0   \n",
       "24812                                0              0                0   \n",
       "24987                                0              0                0   \n",
       "\n",
       "       Area_INTERDISCIPLINARES  Area_LINGUISTICA LETRAS E ARTES  \n",
       "24137                        0                                0  \n",
       "24755                        0                                0  \n",
       "24810                        0                                0  \n",
       "24812                        0                                0  \n",
       "24987                        0                                0  \n",
       "\n",
       "[5 rows x 44 columns]"
      ]
     },
     "execution_count": 248,
     "metadata": {},
     "output_type": "execute_result"
    }
   ],
   "source": [
    "dataCRA = pd.get_dummies(dataCRA, columns=['Modalidade_Inscrita', 'Campus', 'Raca', 'Sexo',\"Codigo_Situacao_Aluno\", \"Area\"], drop_first=True, dtype=int)\n",
    "dataCRA.head(5)"
   ]
  },
  {
   "cell_type": "markdown",
   "metadata": {},
   "source": [
    "Função acima pega cada uma das colunas e converge cada possivel valor categorico em uma coluna de zeros e uns."
   ]
  },
  {
   "cell_type": "markdown",
   "metadata": {},
   "source": [
    "## Realizando a previsão com Random Florest"
   ]
  },
  {
   "cell_type": "code",
   "execution_count": 249,
   "metadata": {},
   "outputs": [
    {
     "data": {
      "text/plain": [
       "Index(['Ano_Nascimento', 'ENEM', 'Num_Reprovacoes', 'Anos_Cursados',\n",
       "       'Modalidade_Inscrita_1.0', 'Modalidade_Inscrita_2.0',\n",
       "       'Modalidade_Inscrita_3.0', 'Modalidade_Inscrita_4.0',\n",
       "       'Modalidade_Inscrita_5.0', 'Modalidade_Inscrita_6.0',\n",
       "       'Modalidade_Inscrita_7.0', 'Modalidade_Inscrita_8.0',\n",
       "       'Modalidade_Inscrita_9.0', 'Campus_CAV', 'Campus_CRP', 'Raca_Branco(a)',\n",
       "       'Raca_Indígena', 'Raca_Informação não disponível', 'Raca_Pardo(a)',\n",
       "       'Raca_Preto(a)', 'Sexo_M', 'Codigo_Situacao_Aluno_B',\n",
       "       'Codigo_Situacao_Aluno_C', 'Codigo_Situacao_Aluno_D',\n",
       "       'Codigo_Situacao_Aluno_F', 'Codigo_Situacao_Aluno_G',\n",
       "       'Codigo_Situacao_Aluno_I', 'Codigo_Situacao_Aluno_M',\n",
       "       'Codigo_Situacao_Aluno_N', 'Codigo_Situacao_Aluno_Q',\n",
       "       'Codigo_Situacao_Aluno_S', 'Codigo_Situacao_Aluno_T',\n",
       "       'Codigo_Situacao_Aluno_X', 'Area_CIENCIAS AGRARIAS',\n",
       "       'Area_CIENCIAS DA SAUDE', 'Area_CIENCIAS ECONOMICAS',\n",
       "       'Area_CIENCIAS EXATAS E DA TERRA', 'Area_CIENCIAS HUMANAS',\n",
       "       'Area_CIENCIAS SOCIAIS APLICADAS', 'Area_EDUCACAO', 'Area_ENGENHARIA',\n",
       "       'Area_INTERDISCIPLINARES', 'Area_LINGUISTICA LETRAS E ARTES'],\n",
       "      dtype='object')"
      ]
     },
     "execution_count": 249,
     "metadata": {},
     "output_type": "execute_result"
    }
   ],
   "source": [
    "X = dataCRA.drop('CRA', axis=1)\n",
    "Y = dataCRA['CRA']\n",
    "X.columns"
   ]
  },
  {
   "cell_type": "code",
   "execution_count": 250,
   "metadata": {},
   "outputs": [],
   "source": [
    "# from sklearn.model_selection import cross_val_score\n",
    "from sklearn.model_selection import train_test_split\n",
    "from sklearn.ensemble import RandomForestRegressor\n",
    "from sklearn.metrics import mean_squared_error, r2_score"
   ]
  },
  {
   "cell_type": "code",
   "execution_count": 251,
   "metadata": {},
   "outputs": [],
   "source": [
    "X = dataCRA.drop('CRA', axis=1)\n",
    "Y = dataCRA['CRA']"
   ]
  },
  {
   "cell_type": "code",
   "execution_count": 252,
   "metadata": {},
   "outputs": [],
   "source": [
    "X_train, X_test, Y_train, Y_test = train_test_split(\n",
    "        X,\n",
    "        Y,\n",
    "        test_size=0.3,\n",
    "        random_state=0\n",
    ")"
   ]
  },
  {
   "cell_type": "code",
   "execution_count": 253,
   "metadata": {},
   "outputs": [],
   "source": [
    "# Criando o modelo de RandomForestRegressor\n",
    "rf = RandomForestRegressor(n_estimators=200, max_depth=10, random_state=42)\n",
    "\n",
    "# Treinando o modelo\n",
    "rf.fit(X_train, Y_train)\n",
    "\n",
    "# Predição usando o modelo treinado\n",
    "rf_Y_predicted = rf.predict(X_test)"
   ]
  },
  {
   "cell_type": "code",
   "execution_count": 269,
   "metadata": {},
   "outputs": [
    {
     "name": "stdout",
     "output_type": "stream",
     "text": [
      "R-squared: 0.8205060850600636 or 82.05060850600636%\n"
     ]
    }
   ],
   "source": [
    "# Avaliando o modelo\n",
    "r2 = r2_score(Y_test, rf_Y_predicted)\n",
    "print(f\"R-squared: {r2} or {(r2*100)}%\")\n"
   ]
  },
  {
   "cell_type": "markdown",
   "metadata": {},
   "source": [
    "### Analise desempenho do modelo"
   ]
  },
  {
   "cell_type": "markdown",
   "metadata": {},
   "source": [
    "Um valor de R-quadrado de 0,8205 significa que aproximadamente 82.05% do CRA é explicada pelo modelo de regressão. Esse valor indica que o modelo tem uma boa capacidade de previsão e ajusta bem aos dados."
   ]
  },
  {
   "cell_type": "markdown",
   "metadata": {},
   "source": [
    "### Analisando quais variaveis significativas"
   ]
  },
  {
   "cell_type": "code",
   "execution_count": 255,
   "metadata": {},
   "outputs": [
    {
     "name": "stdout",
     "output_type": "stream",
     "text": [
      "                            Feature    Importance\n",
      "2                   Num_Reprovacoes  4.348351e-01\n",
      "22          Codigo_Situacao_Aluno_C  3.991878e-01\n",
      "3                     Anos_Cursados  3.456102e-02\n",
      "1                              ENEM  3.205719e-02\n",
      "0                    Ano_Nascimento  2.083586e-02\n",
      "23          Codigo_Situacao_Aluno_D  1.837005e-02\n",
      "27          Codigo_Situacao_Aluno_M  1.164330e-02\n",
      "36  Area_CIENCIAS EXATAS E DA TERRA  8.883831e-03\n",
      "33           Area_CIENCIAS AGRARIAS  4.284527e-03\n",
      "20                           Sexo_M  4.207305e-03\n",
      "17   Raca_Informação não disponível  2.900802e-03\n",
      "13                       Campus_CAV  2.267419e-03\n",
      "12          Modalidade_Inscrita_9.0  1.989349e-03\n",
      "18                    Raca_Pardo(a)  1.935914e-03\n",
      "8           Modalidade_Inscrita_5.0  1.806962e-03\n",
      "34           Area_CIENCIAS DA SAUDE  1.675930e-03\n",
      "19                    Raca_Preto(a)  1.574875e-03\n",
      "5           Modalidade_Inscrita_2.0  1.560282e-03\n",
      "15                   Raca_Branco(a)  1.527159e-03\n",
      "14                       Campus_CRP  1.436942e-03\n",
      "38  Area_CIENCIAS SOCIAIS APLICADAS  1.378747e-03\n",
      "35         Area_CIENCIAS ECONOMICAS  1.378364e-03\n",
      "6           Modalidade_Inscrita_3.0  1.365953e-03\n",
      "37            Area_CIENCIAS HUMANAS  1.360309e-03\n",
      "40                  Area_ENGENHARIA  1.337360e-03\n",
      "42  Area_LINGUISTICA LETRAS E ARTES  1.333498e-03\n",
      "4           Modalidade_Inscrita_1.0  1.211809e-03\n",
      "39                    Area_EDUCACAO  1.126510e-03\n",
      "10          Modalidade_Inscrita_7.0  1.094545e-03\n",
      "24          Codigo_Situacao_Aluno_F  2.502211e-04\n",
      "41          Area_INTERDISCIPLINARES  2.017690e-04\n",
      "16                    Raca_Indígena  1.644701e-04\n",
      "31          Codigo_Situacao_Aluno_T  7.873392e-05\n",
      "21          Codigo_Situacao_Aluno_B  7.401791e-05\n",
      "11          Modalidade_Inscrita_8.0  5.888934e-05\n",
      "9           Modalidade_Inscrita_6.0  2.401384e-05\n",
      "7           Modalidade_Inscrita_4.0  1.012074e-05\n",
      "28          Codigo_Situacao_Aluno_N  8.551965e-06\n",
      "29          Codigo_Situacao_Aluno_Q  5.284609e-07\n",
      "25          Codigo_Situacao_Aluno_G  0.000000e+00\n",
      "32          Codigo_Situacao_Aluno_X  0.000000e+00\n",
      "30          Codigo_Situacao_Aluno_S  0.000000e+00\n",
      "26          Codigo_Situacao_Aluno_I  0.000000e+00\n"
     ]
    }
   ],
   "source": [
    "importances = rf.feature_importances_\n",
    "features = X.columns\n",
    "importances_df = pd.DataFrame({'Feature': features, 'Importance': importances}).sort_values(by='Importance', ascending=False)\n",
    "print(importances_df)"
   ]
  },
  {
   "cell_type": "markdown",
   "metadata": {},
   "source": [
    "Para melhorar sua eficiência e generalização iremos reduzir as variaveis para somente as quinze mais significativas."
   ]
  },
  {
   "cell_type": "code",
   "execution_count": 256,
   "metadata": {},
   "outputs": [],
   "source": [
    "# Reduzindo para as 15 variaveis mais importantes\n",
    "top_features = [\n",
    "    'Num_Reprovacoes',\n",
    "    'Codigo_Situacao_Aluno_C',\n",
    "    'Anos_Cursados',\n",
    "    'ENEM',\n",
    "    'Ano_Nascimento',\n",
    "    'Codigo_Situacao_Aluno_D',\n",
    "    'Codigo_Situacao_Aluno_M',\n",
    "    'Area_CIENCIAS EXATAS E DA TERRA',\n",
    "    'Area_CIENCIAS AGRARIAS',\n",
    "    'Sexo_M',\n",
    "    'Raca_Informação não disponível',\n",
    "    'Campus_CAV',\n",
    "    'Modalidade_Inscrita_9.0',\n",
    "    'Raca_Pardo(a)',\n",
    "    'Modalidade_Inscrita_5.0'\n",
    "]\n"
   ]
  },
  {
   "cell_type": "code",
   "execution_count": 257,
   "metadata": {},
   "outputs": [],
   "source": [
    "X_top_features = X[top_features]\n",
    "\n",
    "# Dividindo novamente os dados\n",
    "X_train_top, X_test_top, Y_train_top, Y_test_top = train_test_split(X_top_features, Y, test_size=0.2, random_state=42)\n",
    "\n",
    "# Criando e treinando o modelo\n",
    "rf_top = RandomForestRegressor(n_estimators=100, random_state=42)\n",
    "rf_top.fit(X_train_top, Y_train_top)\n",
    "\n",
    "# Predição usando o modelo treinado\n",
    "rf_Y_predicted_top = rf_top.predict(X_test_top)"
   ]
  },
  {
   "cell_type": "code",
   "execution_count": 268,
   "metadata": {},
   "outputs": [
    {
     "name": "stdout",
     "output_type": "stream",
     "text": [
      "R-squared: 0.8067348705083359 ou 80.67%\n"
     ]
    }
   ],
   "source": [
    "# Avaliação do modelo\n",
    "r2_top = r2_score(Y_test_top, rf_Y_predicted_top)\n",
    "\n",
    "print(f\"R-squared: {r2_top} ou {(r2_top * 100):.2f}%\")"
   ]
  },
  {
   "cell_type": "markdown",
   "metadata": {},
   "source": [
    "O algoritmo apresentou um tempo de execução reduzido de 10,4 segundos para 6,5 segundos, o que representa uma queda de 37,5% no tempo de processamento. Essa melhoria na eficiência foi acompanhada por uma pequena perda de desempenho, com o R-squared diminuindo apenas 1,68%. Esse resultado sugere que, ao selecionar as variáveis mais relevantes, o modelo se tornou significativamente mais rápido sem comprometer substancialmente sua capacidade de explicar a variabilidade dos dados. Em resumo, a otimização resultou em um modelo mais eficiente e ágil, mantendo uma performance bastante próxima da original e com uma maior generalização."
   ]
  },
  {
   "cell_type": "markdown",
   "metadata": {},
   "source": [
    "### Algumas observações interessantes"
   ]
  }
 ],
 "metadata": {
  "kernelspec": {
   "display_name": "Python 3",
   "language": "python",
   "name": "python3"
  },
  "language_info": {
   "codemirror_mode": {
    "name": "ipython",
    "version": 3
   },
   "file_extension": ".py",
   "mimetype": "text/x-python",
   "name": "python",
   "nbconvert_exporter": "python",
   "pygments_lexer": "ipython3",
   "version": "3.12.3"
  }
 },
 "nbformat": 4,
 "nbformat_minor": 2
}
