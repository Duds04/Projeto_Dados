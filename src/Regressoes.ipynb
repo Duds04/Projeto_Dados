{
 "cells": [
  {
   "cell_type": "markdown",
   "metadata": {},
   "source": [
    "# Trabalho prático de dados, parte 2\n",
    "\n",
    "Nesta etapa do trabalho prático, o grupo precisava aplicar algum algoritmo de aprendizagem\n",
    "(regras de associação, regressão, aprendizado supervisionado ou aprendizado não-supervisionado)\n",
    "para classificar ou agrupar os dados e, assim, tentar prever algum acontecimento desconhecido, com\n",
    "foco em evasão, nota do ENEM e CRA."
   ]
  },
  {
   "cell_type": "markdown",
   "metadata": {},
   "source": [
    "## Imports básicos"
   ]
  },
  {
   "cell_type": "code",
   "execution_count": null,
   "metadata": {},
   "outputs": [],
   "source": [
    "import pandas as pd\n",
    "import numpy as np\n",
    "import matplotlib.pyplot as plt\n",
    "import seaborn as sns\n",
    "import scipy"
   ]
  },
  {
   "cell_type": "markdown",
   "metadata": {},
   "source": [
    "## Lendo dataset"
   ]
  },
  {
   "cell_type": "code",
   "execution_count": null,
   "metadata": {},
   "outputs": [],
   "source": [
    "df = pd.read_csv(\"../Datasets/dadosFiltrados.csv\")\n",
    "df.info()"
   ]
  },
  {
   "cell_type": "markdown",
   "metadata": {},
   "source": [
    "### Selecionando atributos significativos\n",
    "\n",
    "Vamos primeiramente realizar uma plotagem dos atributos do datasets para ver se conseguimos encontrar alguma correlação pelos gráficos. Para isso, foram selecionadas algumas colunas que possivelmente apresentarão resultados significativos"
   ]
  },
  {
   "cell_type": "code",
   "execution_count": null,
   "metadata": {},
   "outputs": [],
   "source": [
    "dfPlot = df[[\n",
    "    \"Ano_Nascimento\" ,\n",
    "    \"Sexo\" ,\n",
    "    \"Campus\" ,\n",
    "    \"Curso_Identificador\" ,\n",
    "    \"UF_Nascimento\" ,\n",
    "    \"Codigo_Situacao_Aluno\" ,\n",
    "    \"Modalidade_Inscrita\" ,\n",
    "    \"ENEM\" ,\n",
    "    \"Num_Reprovacoes\" ,\n",
    "    \"Raca\" ,\n",
    "    \"CRA\" ,\n",
    "    \"Area\" ,\n",
    "    \"Admissao_Ano\",\n",
    "    \"Saida_Ano\",\n",
    "]]\n",
    "\n",
    "# Vamos converter os atributos desse dataset que são categoricos para variaveis discretas\n",
    "colunas = dfPlot.select_dtypes(include=['object']).columns\n",
    "for col in colunas:\n",
    "    dfPlot[col] = dfPlot[col].astype('category')\n",
    "for col in colunas:\n",
    "    dfPlot[col] = dfPlot[col].cat.codes\n",
    "dfPlot"
   ]
  },
  {
   "cell_type": "code",
   "execution_count": null,
   "metadata": {},
   "outputs": [],
   "source": [
    "plt.figure(figsize=(17, 17))\n",
    "sns.pairplot(dfPlot, corner=True)\n",
    "plt.savefig('Imagens/pairplot.png', format='png', dpi=300)"
   ]
  },
  {
   "cell_type": "markdown",
   "metadata": {},
   "source": [
    "Para uma visualização mais detalhada, é recomendável abrir a imagem separadamente em [Imagens/pairplot.png](Imagens/pairplot.png)"
   ]
  },
  {
   "cell_type": "code",
   "execution_count": null,
   "metadata": {},
   "outputs": [],
   "source": [
    "# [\"Identificador\" , \n",
    "# \"Ano_Nascimento\" ,\n",
    "# \"Sexo\" ,\n",
    "# \"Campus\" ,\n",
    "# \"Curso_Identificador\" ,\n",
    "# \"Curso\" ,\n",
    "# \"UF_Nascimento\" ,\n",
    "# \"Municipio_Nascimento\" ,\n",
    "# \"Admissao\" ,\n",
    "# \"Saida\" ,\n",
    "# \"Codigo_Situacao_Aluno\" ,\n",
    "# \"Situacao_Aluno\" ,\n",
    "# \"Situacao_Aluno_Agrupada\" ,\n",
    "# \"Modalidade_Inscrita\" ,\n",
    "# \"ENEM\" ,\n",
    "# \"Num_Reprovacoes\" ,\n",
    "# \"Raca\" ,\n",
    "# \"CRA\" ,\n",
    "# \"Area\" ,\n",
    "# \"Admissao_Ano\",\n",
    "# \"Admissao_Semestre\",\n",
    "# \"Saida_Ano\",\n",
    "# \"Saida_Semestre\"]"
   ]
  }
 ],
 "metadata": {
  "kernelspec": {
   "display_name": "Python 3",
   "language": "python",
   "name": "python3"
  },
  "language_info": {
   "codemirror_mode": {
    "name": "ipython",
    "version": 3
   },
   "file_extension": ".py",
   "mimetype": "text/x-python",
   "name": "python",
   "nbconvert_exporter": "python",
   "pygments_lexer": "ipython3",
   "version": "3.12.0"
  }
 },
 "nbformat": 4,
 "nbformat_minor": 2
}
