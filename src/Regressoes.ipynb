{
 "cells": [
  {
   "cell_type": "markdown",
   "metadata": {},
   "source": [
    "# Trabalho prático de dados, parte 2\n",
    "\n",
    "<u>__Descrição__</u>: Nesta etapa do trabalho prático, o grupo precisava aplicar algum algoritmo de aprendizagem\n",
    "(regras de associação, regressão, aprendizado supervisionado ou aprendizado não-supervisionado)\n",
    "para classificar ou agrupar os dados e, assim, tentar prever algum acontecimento desconhecido, com\n",
    "foco em evasão, nota do ENEM e CRA."
   ]
  },
  {
   "cell_type": "markdown",
   "metadata": {},
   "source": [
    "## Imports básicos"
   ]
  },
  {
   "cell_type": "code",
   "execution_count": null,
   "metadata": {},
   "outputs": [],
   "source": [
    "import pandas as pd\n",
    "import numpy as np\n",
    "import matplotlib.pyplot as plt\n",
    "import seaborn as sns\n",
    "import scipy\n",
    "from sklearn.linear_model import LinearRegression\n",
    "from sklearn.model_selection import train_test_split"
   ]
  },
  {
   "cell_type": "markdown",
   "metadata": {},
   "source": [
    "## Lendo dataset"
   ]
  },
  {
   "cell_type": "code",
   "execution_count": null,
   "metadata": {},
   "outputs": [],
   "source": [
    "df = pd.read_csv(\"../Datasets/dadosFiltrados.csv\")\n",
    "df.info()"
   ]
  },
  {
   "cell_type": "markdown",
   "metadata": {},
   "source": [
    "### Selecionando atributos significativos\n",
    "\n",
    "Vamos primeiramente realizar uma plotagem dos atributos do datasets para ver se conseguimos encontrar alguma correlação pelos gráficos. Para isso, foram selecionadas algumas colunas que possivelmente apresentarão resultados significativos"
   ]
  },
  {
   "cell_type": "markdown",
   "metadata": {},
   "source": [
    "Como o pairplot plota valores numéricos, foi necessário converter os valores `string` para categóricos, tornando possível a plotagem dos valores"
   ]
  },
  {
   "cell_type": "code",
   "execution_count": null,
   "metadata": {},
   "outputs": [],
   "source": [
    "dfCat = df[[  # Selecionando as colunas relevantes para analise\n",
    "    \"Ano_Nascimento\" ,\n",
    "    \"Sexo\" ,\n",
    "    \"Campus\" ,\n",
    "    \"Curso_Identificador\" ,\n",
    "    \"UF_Nascimento\" ,\n",
    "    \"Codigo_Situacao_Aluno\" ,\n",
    "    \"Modalidade_Inscrita\" ,\n",
    "    \"ENEM\" ,\n",
    "    \"Num_Reprovacoes\" ,\n",
    "    \"Raca\" ,\n",
    "    \"CRA\" ,\n",
    "    \"Area\" ,\n",
    "    \"Admissao_Ano\",\n",
    "    \"Saida_Ano\",\n",
    "]]\n",
    "# Colunas não usada. As colunas abaixo foram desconsideradas ou por serem muito especificas ou por serem redundantes\n",
    "\n",
    "# [\"Identificador\" , \n",
    "# \"Curso\" ,\n",
    "# \"UF_Nascimento\" ,\n",
    "# \"Admissao\" ,\n",
    "# \"Saida\" ,\n",
    "# \"Situacao_Aluno\" ,\n",
    "# \"Situacao_Aluno_Agrupada\" ,\n",
    "# \"Admissao_Semestre\",\n",
    "# \"Saida_Semestre\"]\n",
    "\n",
    "# Vamos converter os atributos desse dataset que são categoricos para variaveis discretas\n",
    "colunas = dfCat.select_dtypes(include=['object']).columns\n",
    "for col in colunas:\n",
    "    dfCat[col] = dfCat[col].astype('category')\n",
    "for col in colunas:\n",
    "    dfCat[col] = dfCat[col].cat.codes\n",
    "\n",
    "# Como dito na analise exploratoria, vamos remover os alunos que não se formaram ainda pois eles atrapalham a visualização\n",
    "dfCat = dfCat[dfCat['Saida_Ano'] != 0]\n",
    "dfCat\n"
   ]
  },
  {
   "cell_type": "code",
   "execution_count": null,
   "metadata": {},
   "outputs": [],
   "source": [
    "# ## Plotando o pairplot\n",
    "\n",
    "# plt.figure(figsize=(17, 17))\n",
    "# sns.pairplot(dfCat, corner=True)\n",
    "# plt.savefig('Imagens/pairplot.png', format='png', dpi=300)\n",
    "# plt.close() # impede a impressão da figura na célula. Optamos por salvar a imagem e carregá-la no markdown"
   ]
  },
  {
   "cell_type": "markdown",
   "metadata": {},
   "source": [
    "![Imagens/pairplot.png](Imagens/pairplot.png)"
   ]
  },
  {
   "cell_type": "markdown",
   "metadata": {},
   "source": [
    "### Análise do pairplot\n",
    "\n",
    "O pairplot nos permitiu visualizar alguns padrões muito interessantes, apesar do seu tamanho e complexiddade. Justamente por isso ele foi exportado dentro do arquivo [Imagens/pairplot.png](Imagens/pairplot.png), para permitir sua visualização de forma mais detalhada. \n",
    "\n",
    "Para exemplificar, melhor essas relações, vamos fazer também um heatmap dos valores para medir as correlações\n"
   ]
  },
  {
   "cell_type": "code",
   "execution_count": null,
   "metadata": {},
   "outputs": [],
   "source": [
    "correlation = dfCat.corr()\n",
    "matrix = np.triu(dfCat.corr())\n",
    "plt.figure(figsize=(15,8))\n",
    "sns.heatmap(correlation, xticklabels=correlation.columns, yticklabels=correlation.columns, annot=True, center=0, cmap='coolwarm', mask=matrix)"
   ]
  },
  {
   "cell_type": "markdown",
   "metadata": {},
   "source": [
    "Note que o Heatmap, em paralelo ao pairplot, são muito esclarecedores em diversos aspectos. \n",
    "\n",
    "É fácil perceber que as variáveis de tempo, tais como ano de saída, ano de admissão, e ano de nascimento estão fortemente interligadas. Isso pode ser facilmente esclarecido por meio do senso comum: Boa parte dos alunos ingressantes na faculdade tendem a entrar alguns anos depois de terminarem o ensino médio. O mesmo vale para a saída da faculdade, que costuma ser o tempo necessário para concluir o curso, levandoo em conta uma certa margem de erro.\n",
    "\n",
    "Outras relações que podem ser percebidas visualmente é em relação a reprovações e sexo. Apesar do heatmap não medir essa relação muito bem, o pairplot nos mostra que existem muito poucas mulheres com alto número de reprovações (veja no paiplot que a coluna de reprovações femininas é muito menor que a masculina). Com base em tudo isso, iremos realizar algumas análises preditivas."
   ]
  },
  {
   "cell_type": "markdown",
   "metadata": {},
   "source": [
    "## Previsão do tempo de duração do curso"
   ]
  },
  {
   "cell_type": "markdown",
   "metadata": {},
   "source": [
    "Com base nos resultados anteriores, vamos tentar prever a duração de tempo do curso com base em atributos julgados relevantes. \n",
    "\n",
    "Após o tratamento de dados, o dataset foi enriquecido com novas colunas. Porém para determinadas análises, certo atributos acabam sendo redundantes. Além disso, outros atributos, tais como \"Indentificador\" não contribuem em nada para determinação de padrões. Por conta disso, eles também foram removidos. \n",
    "\n",
    "Por fim, também foram desconsiderados atributos com alto grau de complexidade e de variação, tais como a cidade de nascimento e o curso dos alunos. Esses atributos, por possuirem diversos valores possíveis, acabariam por deixar a análise muito complexa\n"
   ]
  },
  {
   "cell_type": "code",
   "execution_count": null,
   "metadata": {},
   "outputs": [],
   "source": [
    "dfSaida = df.dropna()\n",
    "dfSaida = dfSaida[dfSaida['Saida_Ano'] != 0]\n",
    "dfSaida['Duracao'] = dfSaida['Saida_Ano'] - dfSaida['Admissao_Ano']\n",
    "dfSaida = dfSaida[[\n",
    "    \"Sexo\" ,\n",
    "    \"Campus\" ,\n",
    "    \"Codigo_Situacao_Aluno\" ,\n",
    "    \"Modalidade_Inscrita\" ,\n",
    "    \"ENEM\" ,\n",
    "    \"Num_Reprovacoes\" ,\n",
    "    \"Raca\" ,\n",
    "    \"CRA\" ,\n",
    "    \"Area\" ,\n",
    "    \"Duracao\"]]\n",
    "\n",
    "# Atributos desconsiderados\n",
    "# [\"Identificador\" ,\n",
    "# \"Ano_Nascimento\" ,\n",
    "# \"Curso\" ,\n",
    "# \"UF_Nascimento\" ,\n",
    "# \"Admissao\" ,\n",
    "# \"Saida\" ,\n",
    "# \"Situacao_Aluno\" ,\n",
    "# \"Situacao_Aluno_Agrupada\" ,\n",
    "# \"Curso_Identificador\" ,\n",
    "# \"Admissao_Semestre\",\n",
    "# \"Saida_Semestre\"]\n",
    "\n",
    "dfSaida.info()\n",
    "df['Situacao_Aluno'].unique()"
   ]
  },
  {
   "cell_type": "markdown",
   "metadata": {},
   "source": [
    "Na etapa acima, além da filtragem de atributos relevantes, também foi criada a coluna `Duracao`, que contém o tempo que o aluno permaneceu na faculdade.\n"
   ]
  },
  {
   "cell_type": "markdown",
   "metadata": {},
   "source": [
    "#### Regressão com estratégia de One-Hot encoding\n",
    "\n",
    "Para essa questão, a estratégia adotada foi a de regressão linear. Sabe-se que numa regressão, cada coluna recebe um peso (ou coeficiente) que é utilizado para calibrar a regressão. Porém os atributos categóricos acabam se tornando um problema para a regressão linear, visto que não é possível realizar uma multiplicação com um objeto ou outra variável que não seja numérica. Associar cada rótulo a uma variável discreta também seria errado, visto que uma variável aleatóriamente que recebeu um rótulo maior não seria necessáriamente mais importante (não teria uma força maior).\n",
    "\n",
    "Para contornar esse problema, foi utilizado uma estratégia extremamente interessante conhecida como <u>__One Hot Encoding__</u>. A ideia é, para cada variável distinta de um determinado atributo, criar uma coluna que identifica se aquela variável está ou não presente naquele dado. \n",
    "\n",
    "Para exemplificar, imagine um dataset com uma coluna \"Cor\" onde os dados são classificados como \"Azul\", \"Rosa\" e \"Preto\". Após o OneHot, teríamos três colunas: \"Cor_Azul\", \"Cor_Rosa\" e \"Cor_Preto\". Um dado que originalmente era classificado como rosa terá agora valores `0,1,0` para as três colunas, respectivamente. "
   ]
  },
  {
   "cell_type": "code",
   "execution_count": null,
   "metadata": {},
   "outputs": [],
   "source": [
    "dfOneHot = pd.get_dummies(dfSaida, columns=[\n",
    "    'Sexo', \n",
    "    'Campus',\n",
    "    'Codigo_Situacao_Aluno', \n",
    "    'Modalidade_Inscrita', \n",
    "    'Raca',\n",
    "    'Area',\n",
    "    ], drop_first=True)\n",
    "x = dfOneHot.drop(columns=['Duracao'])\n",
    "y = dfOneHot['Duracao']\n",
    "display(dfOneHot)\n",
    "x.columns"
   ]
  },
  {
   "cell_type": "markdown",
   "metadata": {},
   "source": [
    "Uma vez que os dados estão separados devidamente, é possível utilizar agora a regressão, atribuindo um peso diferente para cada coluna"
   ]
  },
  {
   "cell_type": "code",
   "execution_count": null,
   "metadata": {},
   "outputs": [],
   "source": [
    "\n",
    "lm = LinearRegression()\n",
    "lm.fit(x, y)\n",
    "\n",
    "print('Coeficiente estimado: ', lm.coef_) # Coeficientes encontrados, ou seja, qual o peso de cada atributo\n",
    "print(f\"\\nR2 (score): {lm.score(x,y)} (Ou {(lm.score(x,y)*100):.2f}%)\") # R2 Score, ou seja, quão bom é o modelo\n",
    "\n",
    "coeff_df = pd.DataFrame(lm.coef_, x.columns, columns=['Coefficient'])\n",
    "coeff_df.sort_values(by='Coefficient', ascending=False) # Atributos ordenados por ordem de importancia"
   ]
  },
  {
   "cell_type": "markdown",
   "metadata": {},
   "source": [
    "Veja que o nosso modelo teve um desemenho considerado muito bom (O valor de $R^2$ normalmente varia entre 0 e 1, sendo que em 1 ele consegue prever todos os dados com 100% de acurácia. No nosso caso, um score de 72.42% pode ser considerado um bom score). \n",
    "\n",
    "Quanto ao método utilizado, ele se mostrou como uma estratégia muito útil e interessante de abordagem de resolução de problemas. Além disso, esse modelo nos permite verificar um resultado muito interessante, mas que havia passado despercebido anteriormente: O atributo que mais impacta no tempo de duração do curso dos estudantes é o __Código de Situação do Aluno: Q__. Consultando novamente o [README](../README.md), o código de situação Q significa uma __\"Matrícula condicional (desligamento reconsiderado)\"__. \n",
    "\n",
    "Possivelmente esse alunos cursaram seus cursos por um período (ou talvez não chegaram a começar a cursar), foram desligados da UFV, porém posteriormente conseguiram recorrer e voltar ao curso, o que causou um tempo maior pra finalização do mesmo. Porém não é possível afirmar com certeza do que se trata o código devido a ausência de informações que o expliquem. \n",
    "\n",
    "Além desse atributo, diversos outros atributos interferem na duração final do curso. Confira na tabela. É interessante notar que alguns atributos que a priori pareciam os mais relevantes (tais como `num_reprovacoes`) ficaram atrás de outros que não pareciam tão relevantes.\n",
    "\n",
    "Pode-se concluir que a geração do modelo foi um sucesso e que o modelo se mostrou muito interpretativo, ou seja, fácil de entender seus resultados e o porque de terem sido daquela forma"
   ]
  },
  {
   "cell_type": "markdown",
   "metadata": {},
   "source": [
    "Veja abaixo um pequeno exemplo do modelo em funcionamento. Perceba que ele tende a dar resultados que são realmente próximos ao resultado real"
   ]
  },
  {
   "cell_type": "code",
   "execution_count": null,
   "metadata": {},
   "outputs": [],
   "source": [
    "# Usando o modelo para prever alguns dados\n",
    "teste = dfOneHot[:10]\n",
    "teste['Predicted'] = lm.predict(teste.drop(columns=['Duracao']))\n",
    "teste[['Duracao', 'Predicted']]\n"
   ]
  },
  {
   "cell_type": "markdown",
   "metadata": {},
   "source": [
    "analises possiveis:\n",
    "- mulheres reprovam menos\n",
    "- reprovação por campus\n",
    "- enem vs reprovçoes\n",
    "- cra reprovaçoes"
   ]
  }
 ],
 "metadata": {
  "kernelspec": {
   "display_name": "Python 3",
   "language": "python",
   "name": "python3"
  },
  "language_info": {
   "codemirror_mode": {
    "name": "ipython",
    "version": 3
   },
   "file_extension": ".py",
   "mimetype": "text/x-python",
   "name": "python",
   "nbconvert_exporter": "python",
   "pygments_lexer": "ipython3",
   "version": "3.12.0"
  }
 },
 "nbformat": 4,
 "nbformat_minor": 2
}
